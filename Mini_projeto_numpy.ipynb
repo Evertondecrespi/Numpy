{
  "cells": [
    {
      "cell_type": "markdown",
      "metadata": {
        "id": "view-in-github",
        "colab_type": "text"
      },
      "source": [
        "<a href=\"https://colab.research.google.com/github/Evertondecrespi/Numpy/blob/main/Mini_projeto_numpy.ipynb\" target=\"_parent\"><img src=\"https://colab.research.google.com/assets/colab-badge.svg\" alt=\"Open In Colab\"/></a>"
      ]
    },
    {
      "cell_type": "markdown",
      "metadata": {
        "id": "31oQ9REtmxaI"
      },
      "source": [
        "# <font color='black'>Mini projeto Numpy</font>"
      ]
    },
    {
      "cell_type": "markdown",
      "metadata": {
        "id": "JwvTgtqKmxaL"
      },
      "source": [
        "### <font color='red'>Manipulando dados com Numpy</font>"
      ]
    },
    {
      "cell_type": "markdown",
      "metadata": {
        "id": "ndrer4UpmxaL"
      },
      "source": [
        "<font color='blue'>Limpeza e Pré-Processamento de Dados com NumPy</font>"
      ]
    },
    {
      "cell_type": "code",
      "execution_count": null,
      "metadata": {
        "id": "HNqfttqdmxaM"
      },
      "outputs": [],
      "source": [
        "# It shows the number of visitors who visited the central monuments between 2019 and 2021. ENG\n",
        "\n",
        "# Mostra o número de visitantes que visitaram os monumentos centrais entre 2019 e 2021. PT"
      ]
    },
    {
      "cell_type": "code",
      "execution_count": null,
      "metadata": {
        "id": "yvMHqOuMmxaN",
        "outputId": "6be84393-81ff-4cc0-c21f-53f9ac7878d5"
      },
      "outputs": [
        {
          "data": {
            "text/plain": [
              "'Circle - City\\nName of the Monument\\nDomestic-2019-2020: Number of people from India who visited the monument in 2019-20.\\nForeign-2019-20: Number of foreigners who visited the monument in 2019-20.\\nDomestic-2020-21: Number of people from India who visited the monument in 2020-21.\\nForeign-2020-2021: Number of foreigners who visited the monument in 2020-21.\\n% Growth 2021-21/2019-20-Domestic: Growth percentage of domestic visitors from 2019 to 2021.\\n% Growth 2021-21/2019-20-Foreign: Growth percentage of foreign visitors from 2019 to 2021.'"
            ]
          },
          "execution_count": 2,
          "metadata": {},
          "output_type": "execute_result"
        }
      ],
      "source": [
        "# Dicionario de dados\n",
        "\"\"\"Circle - City\n",
        "Name of the Monument\n",
        "Domestic-2019-2020: Number of people from India who visited the monument in 2019-20.\n",
        "Foreign-2019-20: Number of foreigners who visited the monument in 2019-20.\n",
        "Domestic-2020-21: Number of people from India who visited the monument in 2020-21.\n",
        "Foreign-2020-2021: Number of foreigners who visited the monument in 2020-21.\n",
        "% Growth 2021-21/2019-20-Domestic: Growth percentage of domestic visitors from 2019 to 2021.\n",
        "% Growth 2021-21/2019-20-Foreign: Growth percentage of foreign visitors from 2019 to 2021.\"\"\""
      ]
    },
    {
      "cell_type": "code",
      "execution_count": null,
      "metadata": {
        "id": "YkHK7anbmxaO"
      },
      "outputs": [],
      "source": [
        "# Import\n",
        "import numpy as np\n",
        "\n",
        "# Configuração de impressão do NumPy\n",
        "np.set_printoptions(suppress = True, linewidth = 200, precision = 2)"
      ]
    },
    {
      "cell_type": "markdown",
      "metadata": {
        "id": "IAJl2zp5mxaO"
      },
      "source": [
        "### Carregando o dataset Turismo Indiano"
      ]
    },
    {
      "cell_type": "code",
      "execution_count": null,
      "metadata": {
        "id": "jtftASXDmxaP",
        "outputId": "f609d25f-a3b1-40cd-d1e9-43627ec8813a"
      },
      "outputs": [
        {
          "data": {
            "text/plain": [
              "array([[        nan,         nan,  4429710.  , ...,     9034.  ,      -71.56,      -98.6 ],\n",
              "       [        nan,         nan,  1627154.  , ...,     2810.  ,      -77.18,      -99.27],\n",
              "       [        nan,         nan,   454376.  , ...,      574.  ,      -76.27,      -99.69],\n",
              "       ...,\n",
              "       [        nan,         nan,    22353.  , ...,       10.  ,      -54.28,      -88.24],\n",
              "       [        nan,         nan,   262949.  , ...,      137.  ,      -55.84,      -86.41],\n",
              "       [        nan,         nan, 43607075.  , ...,   415859.  ,      -69.84,      -84.91]])"
            ]
          },
          "execution_count": 4,
          "metadata": {},
          "output_type": "execute_result"
        }
      ],
      "source": [
        "# Carrega as colunas do tipo string\n",
        "df01 = np.genfromtxt(\"../data/India-Tourism.csv\",\n",
        "                            delimiter = ',',\n",
        "                            skip_header = 1,\n",
        "                            autostrip = True,\n",
        "                            encoding = 'cp1252')\n",
        "df01.view()                        "
      ]
    },
    {
      "cell_type": "markdown",
      "metadata": {
        "id": "QWSnwTq3mxaP"
      },
      "source": [
        "### Tratando valores ausentes"
      ]
    },
    {
      "cell_type": "code",
      "execution_count": null,
      "metadata": {
        "id": "prxx9em3mxaQ",
        "outputId": "a400154d-0b23-4955-ccf3-78ff167b2880"
      },
      "outputs": [
        {
          "data": {
            "text/plain": [
              "357"
            ]
          },
          "execution_count": 5,
          "metadata": {},
          "output_type": "execute_result"
        }
      ],
      "source": [
        "# Observe como várias colunas estão com o tipo nan. \n",
        "# Isso se deve a caracteres especiais no conjunto de dados e a forma como o NumPy carrega dados numéricos e do tipo string. Vamos resolver isso.\n",
        "np.isnan(df01).sum()"
      ]
    },
    {
      "cell_type": "code",
      "execution_count": null,
      "metadata": {
        "id": "kQElsB4NmxaQ",
        "outputId": "0b22fc9d-1add-4ca5-b59a-dfab29c65ab2"
      },
      "outputs": [
        {
          "name": "stdout",
          "output_type": "stream",
          "text": [
            "43607076.0\n"
          ]
        }
      ],
      "source": [
        "# Vamos retornar o maior valor + 1 ignorando valores nan\n",
        "# Usaremos esse valor arbitrário para preencher os valores ausentes no momento da carga de dados de variáveis\n",
        "# numéricas e depois tratamos esse valor como valor ausente\n",
        "valor_nulo = np.nanmax(df01) + 1\n",
        "print(valor_nulo)"
      ]
    },
    {
      "cell_type": "code",
      "execution_count": null,
      "metadata": {
        "id": "DbeSPck6mxaQ",
        "outputId": "628b1ca5-9b32-41a5-d476-54859940d485"
      },
      "outputs": [
        {
          "name": "stdout",
          "output_type": "stream",
          "text": [
            "[      nan       nan 738855.89  46715.37 222604.64   7043.55    -28.57    942.88]\n"
          ]
        },
        {
          "name": "stderr",
          "output_type": "stream",
          "text": [
            "/tmp/ipykernel_2127/1630894391.py:3: RuntimeWarning: Mean of empty slice\n",
            "  media_ignorando_nan = np.nanmean(df01, axis = 0)\n"
          ]
        }
      ],
      "source": [
        "# Calculamos a média (variáveis numéricas) ignorando valores nan por coluna\n",
        "# Usaremos isso para separar variáveis numéricas de variáveis do tipo string\n",
        "media_ignorando_nan = np.nanmean(df01, axis = 0)\n",
        "print(media_ignorando_nan)"
      ]
    },
    {
      "cell_type": "code",
      "execution_count": null,
      "metadata": {
        "id": "4yiCDiUjmxaR",
        "outputId": "5a85e9ee-1190-4428-e01e-0b7754241bb5"
      },
      "outputs": [
        {
          "data": {
            "text/plain": [
              "array([0, 1])"
            ]
          },
          "execution_count": 8,
          "metadata": {},
          "output_type": "execute_result"
        }
      ],
      "source": [
        "# Separando colunas do tipo string com valores ausentes\n",
        "colunas_strings = np.argwhere(np.isnan(media_ignorando_nan)).squeeze()\n",
        "colunas_strings"
      ]
    },
    {
      "cell_type": "code",
      "execution_count": null,
      "metadata": {
        "id": "gBOKrrskmxaR",
        "outputId": "9365b193-818b-42dd-ec71-ceb10fa4955a"
      },
      "outputs": [
        {
          "data": {
            "text/plain": [
              "array([2, 3, 4, 5, 6, 7])"
            ]
          },
          "execution_count": 9,
          "metadata": {},
          "output_type": "execute_result"
        }
      ],
      "source": [
        "# Separando as colunas numéricas \n",
        "colunas_numericas = np.argwhere(np.isnan(media_ignorando_nan) == False).squeeze()\n",
        "colunas_numericas"
      ]
    },
    {
      "cell_type": "markdown",
      "metadata": {
        "id": "-CGh4qDhmxaR"
      },
      "source": [
        "### Carregando o dataset Turismo Indiano - Somente string"
      ]
    },
    {
      "cell_type": "code",
      "execution_count": null,
      "metadata": {
        "id": "kbBOEp38mxaR",
        "outputId": "18f8325b-de9a-4f8e-c613-9f557919d0a7"
      },
      "outputs": [
        {
          "data": {
            "text/plain": [
              "array([['Agra', 'Taj Mahal'],\n",
              "       ['Agra', 'Agra Fort'],\n",
              "       ['Agra', 'Fatehpur Sikri'],\n",
              "       ['Agra', 'Akbar Tomb Sikandra'],\n",
              "       ['Agra', 'Mariam tomb Sikandra'],\n",
              "       ['Agra', 'Itimad-ud-Daulah-Tomb'],\n",
              "       ['Agra', 'Ram Bagh'],\n",
              "       ['Agra', 'Mehtab Bagh'],\n",
              "       ['Agra', 'Mausoleum'],\n",
              "       ['Total', 'Total'],\n",
              "       ['Lucknow', 'Site of Sahet mahet'],\n",
              "       ['Lucknow', 'Residency Building'],\n",
              "       ['Lucknow', 'Piprahwa & Ganwaria'],\n",
              "       ['Total', 'Total'],\n",
              "       ['Jhansi', '\"Gupta Temple & Varah Temple Deogarh\"'],\n",
              "       ['Jhansi', 'Kalinjar Fort'],\n",
              "       ['Jhansi', 'Rani Lakshmi Bai Mahal'],\n",
              "       ['Jhansi', 'Rani Jhansi Fort'],\n",
              "       ['Total', 'Total'],\n",
              "       ['Sarnath', 'Lord Cornwallis Tomb'],\n",
              "       ['Sarnath', '\"Old Fort (Shahi Fort) Jaunpur\"'],\n",
              "       ['Sarnath', 'Observatory of Man Singh'],\n",
              "       ['Sarnath', 'Excavated Remains at sarnath'],\n",
              "       ['Sarnath', 'Tomb of Lal Khan'],\n",
              "       ['Sarnath', 'Ancient Buddhist Site known as Chaukhandi stupa'],\n",
              "       ['Total', 'Total'],\n",
              "       ['Thrissur', '\"Bekal Fort Pallikkare Distt. Kasargod\"'],\n",
              "       ['Thrissur', 'mattancherry Palace Museum Kochi'],\n",
              "       ['Thrissur', '\"Fort Palakkad Palakkad\"'],\n",
              "       ['Thrissur', '\"Fort St. Angelo Kannur\"'],\n",
              "       ['Total', 'Total'],\n",
              "       ['Chennai', 'Group of Monuments Mamallapuram'],\n",
              "       ['Chennai', '\"Gingee Fort Gingee\"'],\n",
              "       ['Total', 'Total'],\n",
              "       ['Tiruchirappalli', '\"Fort on Rock Dindigual\"'],\n",
              "       ['Tiruchirappalli', '\"Moovarkoil Kodumbalur\"'],\n",
              "       ['Tiruchirappalli', '\"Rock-cut Jain Temple Sittannavasasl\"'],\n",
              "       ['Tiruchirappalli', \"Tirumalai Nayak's Palace Srivilliputhur\"],\n",
              "       ['Tiruchirappalli', '\"Natural Caven with inscription eladipattam Sittannavasal\"'],\n",
              "       ['Tiruchirappalli', '\"Fort Museum Thirumayam\"'],\n",
              "       ['Tiruchirappalli', 'Fort Vattakottai'],\n",
              "       ['Total', 'Total'],\n",
              "       ['Bhopal', 'Buddhist Caves'],\n",
              "       ['Bhopal', '\"The palace situated in the fort Burhanpur\"'],\n",
              "       ['Bhopal', \"Hoshang Shah's Tomb\"],\n",
              "       ['Bhopal', '\"Group of monument Royal Palace Mandu\"'],\n",
              "       ['Bhopal', \"Roopmati's Pavilion\"],\n",
              "       ['Bhopal', '\"Buddhist Monuments Sanchi\"'],\n",
              "       ['Bhopal', 'Gwalior Fort'],\n",
              "       ['Bhopal', '\"Buddhist cave no 01 to 51 Dhamnar Tehsil Garoth\"'],\n",
              "       ['Bhopal', '\"Badal Mahal Gatwway Chanderi\"'],\n",
              "       ['Bhopal', 'Caves 1 t0 20 Udaygiri Vidisha'],\n",
              "       ['Bhopal', 'Bir Singh Palace Datia'],\n",
              "       ['Total', 'Total'],\n",
              "       ['Jabalpur', '\"Ancient Site and Adamgrah rock shelter Kalamdi Rasuliya and kishanpur\"'],\n",
              "       ['Jabalpur', '\"Western Group of Temples Khajuraho\"'],\n",
              "       ['Jabalpur', '\"Group of Temple Parameshvar shiv and Karan Temple Amarkantak\"'],\n",
              "       ['Total', 'Total'],\n",
              "       ['Dharwad', 'Durga temple complex Aihole'],\n",
              "       ['Dharwad', '\"Jaina & Vaishnava Cave Badami\"'],\n",
              "       ['Dharwad', 'Group of Monuments (WH) Pattadakal'],\n",
              "       ['Dharwad', '\"Gol Gumbaz Vijayapura\"'],\n",
              "       ['Dharwad', '\"Ibrahim Rauza Bijapur\"'],\n",
              "       ['Dharwad', '\"Temples & Sculpture Shed lakkumdi\"'],\n",
              "       ['Total', 'Total'],\n",
              "       ['Hampi', '\"Group of Monuments Hampi\"'],\n",
              "       ['Hampi', 'Bellary Fort'],\n",
              "       ['Total', 'Total'],\n",
              "       ['Banglore', 'Dariya Daulath Bagh'],\n",
              "       ['Banglore', 'Keshava Temple'],\n",
              "       ['Banglore', 'Palace of Tipu Sultan'],\n",
              "       ['Banglore', 'Fortress and Temple Chitrudurga Fort'],\n",
              "       ['Total', 'Total'],\n",
              "       ['Raiganj', 'Cooch Bihar Palace'],\n",
              "       ['Raiganj', 'Hazarduari Palace'],\n",
              "       ['Total', 'Total'],\n",
              "       ['Kolkata', 'Bishnupur Temples'],\n",
              "       ['Kolkata', 'Metcelf-Hall'],\n",
              "       ['Total', 'Total'],\n",
              "       ['Rajkot', '\"Asokan Rock Edict Jungadh\"'],\n",
              "       ['Rajkot', '\"Buddhish Caves Junagadh\"'],\n",
              "       ['Rajkot', '\"Baba Pyara Caves Junagadh & Khapra Khodiya Caves Junagadh\"'],\n",
              "       ['Total', 'Total'],\n",
              "       ['Vadodara', '\"Champaner Monuments Pavagadh\"'],\n",
              "       ['Vadodara', '\"Sun temple Modhera\"'],\n",
              "       ['Vadodara', '\"Rani Ki-Vav Patan\"'],\n",
              "       ['Vadodara', '\"Rudabai Step Well Adalaj\"'],\n",
              "       ['Total', 'Total'],\n",
              "       ['Bhubaneswar', '\"Sun Temple Konark\"'],\n",
              "       ['Bhubaneswar', 'Ancient Remains on both Udaigiri & Khandagiri Hills'],\n",
              "       ['Bhubaneswar', 'Rajarani Temple'],\n",
              "       ['Bhubaneswar', 'The Hill Containing Many Valuable Sculptures and Images Ratnagiri'],\n",
              "       ['Bhubaneswar', 'Ruins of Buddhist Temples and Images lalitgiri'],\n",
              "       ['Total', 'Total'],\n",
              "       ['Aurangabad', 'Ajanta Caves'],\n",
              "       ['Aurangabad', 'Ellora Caves'],\n",
              "       ['Aurangabad', 'Tomb of Rabia Durani (Bibi ka Maqbara)'],\n",
              "       ['Aurangabad', 'Daulatabad Fort'],\n",
              "       ['Aurangabad', 'Pandulena Caves'],\n",
              "       ['Aurangabad', 'Aurangabad Caves'],\n",
              "       ['Total', 'Total'],\n",
              "       ['Mumbai', 'Elephanta Caves'],\n",
              "       ['Mumbai', 'Buddhist Caves Kanheri'],\n",
              "       ['Mumbai', 'Shaniwarwada'],\n",
              "       ['Mumbai', 'Aga  Khan Palace Building'],\n",
              "       ['Mumbai', '\"Cave Temple and Inscriptions Junaar Lenyadri\"'],\n",
              "       ['Mumbai', '\"Caves Temples and inscriptions Karla\"'],\n",
              "       ['Mumbai', '\"Cave Temple & Inscriptions Bhaja\"'],\n",
              "       ['Mumbai', 'Raigad Fort'],\n",
              "       ['Mumbai', '\"Kolaba Fort Alibag\"'],\n",
              "       ['Mumbai', '\"Old Fort Sholapur\"'],\n",
              "       ['Mumbai', '\"Janjira Fort Murd\"'],\n",
              "       ['Mumbai', 'Kondiote Caves'],\n",
              "       ['Mumbai', 'Lohgad Fort'],\n",
              "       ['Total', 'Total'],\n",
              "       ['Nagpur', 'Gawilgarh Fort'],\n",
              "       ['Nagpur', '\"Ancient Buddhist Remains comprising monastery stupa rock sculptures inscriptions ect Mansur\"'],\n",
              "       ['Total', 'Total'],\n",
              "       ['Chandigarh', 'Suraj Kund'],\n",
              "       ['Chandigarh', \"Sheikh Chilli's Tomb\"],\n",
              "       ['Total', 'Total'],\n",
              "       ['Delhi', 'Khan-I-Khana'],\n",
              "       ['Delhi', 'Sultanghari Tomb'],\n",
              "       ['Delhi', 'Tughluqabad'],\n",
              "       ['Delhi', 'Red Fort'],\n",
              "       ['Delhi', 'Humayun Tomb'],\n",
              "       ['Delhi', 'Qutub Minar'],\n",
              "       ['Delhi', 'Hauzkhas'],\n",
              "       ['Delhi', 'Jantar Mantar'],\n",
              "       ['Delhi', 'Safdarjung Tomb'],\n",
              "       ['Delhi', 'Kotla Feroz Shah'],\n",
              "       ['Delhi', 'Purana Qila'],\n",
              "       ['Total', 'Total'],\n",
              "       ['Guwahati', \"Ahom Raja's Palace\"],\n",
              "       ['Guwahati', '\"Kareghar of Ahom Kings Sibasagar\"'],\n",
              "       ['Guwahati', '\"Ranghar Pavillion Jaisagar\"'],\n",
              "       ['Guwahati', 'Bishnudol'],\n",
              "       ['Guwahati', '\"Group of four MaidansCharaideo Sibasagar\"'],\n",
              "       ['Total', 'Total'],\n",
              "       ['Goa', 'Upper Fort Aguada'],\n",
              "       ['Total', 'Total'],\n",
              "       ['Hyderabad', 'Charminar'],\n",
              "       ['Hyderabad', 'Golconda'],\n",
              "       ['Hyderabad', 'Warangal'],\n",
              "       ['Total', 'Total'],\n",
              "       ['Jaipur', 'Ancient Site Bhangarh'],\n",
              "       ['Jaipur', 'Baori at Abhaneri'],\n",
              "       ['Jaipur', 'Deeg Bhawan'],\n",
              "       ['Total', 'Total'],\n",
              "       ['Jodhpur', 'Chittaurgarh Fort'],\n",
              "       ['Jodhpur', 'Kumbhalgarh Fort'],\n",
              "       ['Jodhpur', 'Marble Pavillion and balustrade on the Ana Sagar bund and ruins of the marble Hammam Behind the Ana sagar Bund'],\n",
              "       ['Total', 'Total'],\n",
              "       ['Leh', 'Ancient Palace Leh'],\n",
              "       ['Total', 'Total'],\n",
              "       ['Patna', '\"Remains of Patliputra Site of Mauryan Palace Kumrahar\"'],\n",
              "       ['Patna', '\"Ancient site of Vaishali Kolhua\"'],\n",
              "       ['Patna', 'Excavated Remains at Nalanda'],\n",
              "       ['Patna', 'Ancient Site of Vikramshila Antichak'],\n",
              "       ['Patna', \"Sher Shah's Tomb\"],\n",
              "       ['Total', 'Total'],\n",
              "       ['Raipur', 'Temple of Laxman and Old sites including sculptures sirpur'],\n",
              "       ['Total', 'Total'],\n",
              "       ['Shimla', '\"Ruined Fort kangra\"'],\n",
              "       ['Shimla', 'Rock-cut Temples and Sculptures'],\n",
              "       ['Total', 'Total'],\n",
              "       ['Srinagar', '\"Palace Complex at Ramnagar Distt. Udhampur\"'],\n",
              "       ['Srinagar', '\"Avantiswamin Temple Avantipur District Pulwama\"'],\n",
              "       ['Srinagar', '\"Group of Temples at kiramchi District Udhampur\"'],\n",
              "       ['Total', 'Total'],\n",
              "       ['Amaravati', 'Amaravati mahastupa'],\n",
              "       ['Amaravati', 'Undavalli caves'],\n",
              "       ['Amaravati', 'Nagarjuna Kunda'],\n",
              "       ['Amaravati', 'Chandragiri Monument'],\n",
              "       ['Amaravati', '\"Buddhist Remains on hill top at Guntupalli W.G.District\"'],\n",
              "       ['Total', 'Total'],\n",
              "       ['Grand Total', 'Grand Total']], dtype='<U110')"
            ]
          },
          "execution_count": 10,
          "metadata": {},
          "output_type": "execute_result"
        }
      ],
      "source": [
        "# Carrega novamente os dados das colunas do tipo string\n",
        "strings = np.genfromtxt(\"../data/India-Tourism.csv\",\n",
        "                            delimiter = ',',\n",
        "                            skip_header = 1,\n",
        "                            autostrip = True, \n",
        "                            usecols = colunas_strings,\n",
        "                            dtype = str, \n",
        "                            encoding = 'cp1252')\n",
        "strings"
      ]
    },
    {
      "cell_type": "markdown",
      "metadata": {
        "id": "wn9Q_EoamxaS"
      },
      "source": [
        "### Carregando o dataset Turismo Indiano - Somente Numerico"
      ]
    },
    {
      "cell_type": "code",
      "execution_count": null,
      "metadata": {
        "id": "7T20lGifmxaS",
        "outputId": "3c3b6f35-0bab-4d7d-fcaa-0826e3564a34"
      },
      "outputs": [
        {
          "data": {
            "text/plain": [
              "array([[ 4429710.  ,   645415.  ,  1259892.  ,     9034.  ,      -71.56,      -98.6 ],\n",
              "       [ 1627154.  ,   386522.  ,   371242.  ,     2810.  ,      -77.18,      -99.27],\n",
              "       [  454376.  ,   184751.  ,   107835.  ,      574.  ,      -76.27,      -99.69],\n",
              "       ...,\n",
              "       [   22353.  ,       85.  ,    10219.  ,       10.  ,      -54.28,      -88.24],\n",
              "       [  262949.  ,     1008.  ,   116120.  ,      137.  ,      -55.84,      -86.41],\n",
              "       [43607075.  ,  2756561.  , 13153076.  ,   415859.  ,      -69.84,      -84.91]])"
            ]
          },
          "execution_count": 11,
          "metadata": {},
          "output_type": "execute_result"
        }
      ],
      "source": [
        "# Carrega as colunas do tipo numérico preenchendo os valores ausentes\n",
        "numeric = np.genfromtxt(\"../data/India-Tourism.csv\",\n",
        "                            delimiter = ',',\n",
        "                            autostrip = True,\n",
        "                            skip_header = 1,\n",
        "                            usecols = colunas_numericas,\n",
        "                            filling_values = valor_nulo, \n",
        "                            encoding = 'cp1252')\n",
        "numeric"
      ]
    },
    {
      "cell_type": "markdown",
      "metadata": {
        "id": "Gx69rXq8mxaT"
      },
      "source": [
        "### Carregando o dataset Turismo Indiano - Somente nome das colunas"
      ]
    },
    {
      "cell_type": "code",
      "execution_count": null,
      "metadata": {
        "id": "O8TzcJcQmxaT",
        "outputId": "8d9b4d69-729c-44f8-8efc-9f02dc809e62"
      },
      "outputs": [
        {
          "data": {
            "text/plain": [
              "array(['Circle', 'Name of the Monument', 'Domestic-2019-20', 'Foreign-2019-20', 'Domestic-2020-21', 'Foreign-2020-21', 'Growth 2021-21/2019-20-Domestic', 'Growth 2021-21/2019-20-Foreign'],\n",
              "      dtype='<U31')"
            ]
          },
          "execution_count": 12,
          "metadata": {},
          "output_type": "execute_result"
        }
      ],
      "source": [
        "# Carrega os nomes das colunas\n",
        "arr_nomes_colunas = np.genfromtxt(\"../data/India-Tourism.csv\",\n",
        "                                  delimiter = ',',\n",
        "                                  autostrip = True,\n",
        "                                  skip_footer = df01.shape[0],\n",
        "                                  dtype = str, \n",
        "                                  encoding = 'cp1252')\n",
        "arr_nomes_colunas"
      ]
    },
    {
      "cell_type": "code",
      "execution_count": null,
      "metadata": {
        "id": "7TTjL9N0mxaT",
        "outputId": "2410206f-860d-4bb4-eb52-9e48484c303c"
      },
      "outputs": [
        {
          "data": {
            "text/plain": [
              "(array(['Circle', 'Name of the Monument'], dtype='<U31'),\n",
              " array(['Domestic-2019-20', 'Foreign-2019-20', 'Domestic-2020-21', 'Foreign-2020-21', 'Growth 2021-21/2019-20-Domestic', 'Growth 2021-21/2019-20-Foreign'], dtype='<U31'))"
            ]
          },
          "execution_count": 13,
          "metadata": {},
          "output_type": "execute_result"
        }
      ],
      "source": [
        "# Separa cabeçalho de colunas numéricas e string\n",
        "header_strings, header_numeric = arr_nomes_colunas[colunas_strings], arr_nomes_colunas[colunas_numericas]\n",
        "header_strings, header_numeric"
      ]
    },
    {
      "cell_type": "markdown",
      "metadata": {
        "id": "QGUDGassmxaU"
      },
      "source": [
        "### Renomando as colunas"
      ]
    },
    {
      "cell_type": "code",
      "execution_count": null,
      "metadata": {
        "id": "5X0i2mDvmxaU",
        "outputId": "270cb3d2-a734-4534-f4cd-15eba36e0c6d"
      },
      "outputs": [
        {
          "data": {
            "text/plain": [
              "array(['Cidade', 'Monumento'], dtype='<U31')"
            ]
          },
          "execution_count": 14,
          "metadata": {},
          "output_type": "execute_result"
        }
      ],
      "source": [
        "# Vamos ajustar o nome das colunas para facilitar a identificação\n",
        "header_strings[0] = \"Cidade\"\n",
        "header_strings[1] = \"Monumento\"\n",
        "header_strings"
      ]
    },
    {
      "cell_type": "code",
      "execution_count": null,
      "metadata": {
        "id": "v4BlXTbWmxaU",
        "outputId": "3a327df1-3561-4dd0-8b5a-7ed3e8561fab"
      },
      "outputs": [
        {
          "ename": "SyntaxError",
          "evalue": "invalid syntax (503628745.py, line 2)",
          "output_type": "error",
          "traceback": [
            "\u001b[0;36m  Cell \u001b[0;32mIn[15], line 2\u001b[0;36m\u001b[0m\n\u001b[0;31m    header_numeric[0] =\u001b[0m\n\u001b[0m                        ^\u001b[0m\n\u001b[0;31mSyntaxError\u001b[0m\u001b[0;31m:\u001b[0m invalid syntax\n"
          ]
        }
      ],
      "source": [
        "# Vamos ajustar o nome das colunas para facilitar a identificação\n",
        "header_numeric[0] = "
      ]
    },
    {
      "cell_type": "markdown",
      "metadata": {
        "id": "_vzeGo52mxaU"
      },
      "source": [
        "### Pré-Processamento da Variável cidade com Label Encoding"
      ]
    },
    {
      "cell_type": "code",
      "execution_count": null,
      "metadata": {
        "id": "HMBPMFpRmxaV",
        "outputId": "10b44cb2-f160-466d-d863-9017a56cdbf4"
      },
      "outputs": [
        {
          "data": {
            "text/plain": [
              "array(['Agra', 'Amaravati', 'Aurangabad', 'Banglore', 'Bhopal', 'Bhubaneswar', 'Chandigarh', 'Chennai', 'Delhi', 'Dharwad', 'Goa', 'Grand Total', 'Guwahati', 'Hampi', 'Hyderabad', 'Jabalpur',\n",
              "       'Jaipur', 'Jhansi', 'Jodhpur', 'Kolkata', 'Leh', 'Lucknow', 'Mumbai', 'Nagpur', 'Patna', 'Raiganj', 'Raipur', 'Rajkot', 'Sarnath', 'Shimla', 'Srinagar', 'Thrissur', 'Tiruchirappalli', 'Total',\n",
              "       'Vadodara'], dtype='<U110')"
            ]
          },
          "execution_count": 71,
          "metadata": {},
          "output_type": "execute_result"
        }
      ],
      "source": [
        "# Extrai os valores únicos da variável\n",
        "np.unique(strings[:,0])"
      ]
    },
    {
      "cell_type": "code",
      "execution_count": null,
      "metadata": {
        "id": "aBR4GFubmxaV",
        "outputId": "01865f7e-aef3-4cac-8203-dbb7cc5af070"
      },
      "outputs": [
        {
          "data": {
            "text/plain": [
              "(35,)"
            ]
          },
          "execution_count": 83,
          "metadata": {},
          "output_type": "execute_result"
        }
      ],
      "source": [
        "# Mostra a quantidade de valores unicos \n",
        "cidades_numero = np.unique(strings[:,0])\n",
        "cidades_numero.shape"
      ]
    },
    {
      "cell_type": "code",
      "execution_count": null,
      "metadata": {
        "id": "pRNGY_RTmxaV"
      },
      "outputs": [],
      "source": [
        "# Criamos um array com os meses (incluindo um elemento como vazio para o que estiver em branco)\n",
        "cidades = np.array(['Agra', 'Amaravati', 'Aurangabad', 'Banglore', 'Bhopal', 'Bhubaneswar', 'Chandigarh', 'Chennai', 'Delhi', 'Dharwad', 'Goa', 'Grand Total', 'Guwahati', 'Hampi', 'Hyderabad', 'Jabalpur',\n",
        "       'Jaipur', 'Jhansi', 'Jodhpur', 'Kolkata', 'Leh', 'Lucknow', 'Mumbai', 'Nagpur', 'Patna', 'Raiganj', 'Raipur', 'Rajkot', 'Sarnath', 'Shimla', 'Srinagar', 'Thrissur', 'Tiruchirappalli', 'Total',\n",
        "       'Vadodara'])"
      ]
    },
    {
      "cell_type": "code",
      "execution_count": null,
      "metadata": {
        "id": "sm8aa2eImxaW",
        "outputId": "f07f0371-1fd3-45a9-814a-d5a9093c4ec0"
      },
      "outputs": [
        {
          "data": {
            "text/plain": [
              "array(['0', '0', '0', '0', '0', '0', '0', '0', '0', '33', '21', '21', '21', '33', '17', '17', '17', '17', '33', '28', '28', '28', '28', '28', '28', '33', '31', '31', '31', '31', '33', '7', '7', '7',\n",
              "       '33', '32', '32', '32', '32', '32', '32', '32', '33', '4', '4', '4', '4', '4', '4', '4', '4', '4', '4', '4', '33', '15', '15', '15', '33', '9', '9', '9', '9', '9', '9', '33', '13', '13', '33',\n",
              "       '3', '3', '3', '3', '33', '25', '25', '33', '19', '19', '33', '27', '27', '27', '33', '34', '34', '34', '34', '33', '5', '5', '5', '5', '5', '33', '2', '2', '2', '2', '2', '2', '33', '22',\n",
              "       '22', '22', '22', '22', '22', '22', '22', '22', '22', '22', '22', '22', '33', '23', '23', '33', '6', '6', '33', '8', '8', '8', '8', '8', '8', '8', '8', '8', '8', '8', '33', '12', '12', '12',\n",
              "       '12', '12', '33', '10', '33', '14', '14', '14', '33', '16', '16', '16', '33', '18', '18', '18', '33', '20', '33', '24', '24', '24', '24', '24', '33', '26', '33', '29', '29', '33', '30', '30',\n",
              "       '30', '33', '1', '1', '1', '1', '1', '33', '11'], dtype='<U110')"
            ]
          },
          "execution_count": 85,
          "metadata": {},
          "output_type": "execute_result"
        }
      ],
      "source": [
        "# Loop para converter os nomes das cidades em valores numéricos\n",
        "# Chamamos isso de label encoding\n",
        "for i in range(35):\n",
        "        strings[:,0] = np.where(strings[:,0] == cidades[i], i, strings[:,0])\n",
        "strings[:,0]        "
      ]
    },
    {
      "cell_type": "code",
      "execution_count": null,
      "metadata": {
        "id": "2g6458romxaW",
        "outputId": "c035da84-0cd2-44a7-b764-0706f35d2533"
      },
      "outputs": [
        {
          "data": {
            "text/plain": [
              "array(['\"Ancient Buddhist Remains comprising monastery stupa rock sculptures inscriptions ect Mansur\"', '\"Ancient Site and Adamgrah rock shelter Kalamdi Rasuliya and kishanpur\"',\n",
              "       '\"Ancient site of Vaishali Kolhua\"', '\"Asokan Rock Edict Jungadh\"', '\"Avantiswamin Temple Avantipur District Pulwama\"', '\"Baba Pyara Caves Junagadh & Khapra Khodiya Caves Junagadh\"',\n",
              "       '\"Badal Mahal Gatwway Chanderi\"', '\"Bekal Fort Pallikkare Distt. Kasargod\"', '\"Buddhish Caves Junagadh\"', '\"Buddhist Monuments Sanchi\"',\n",
              "       '\"Buddhist Remains on hill top at Guntupalli W.G.District\"', '\"Buddhist cave no 01 to 51 Dhamnar Tehsil Garoth\"', '\"Cave Temple & Inscriptions Bhaja\"',\n",
              "       '\"Cave Temple and Inscriptions Junaar Lenyadri\"', '\"Caves Temples and inscriptions Karla\"', '\"Champaner Monuments Pavagadh\"', '\"Fort Museum Thirumayam\"', '\"Fort Palakkad Palakkad\"',\n",
              "       '\"Fort St. Angelo Kannur\"', '\"Fort on Rock Dindigual\"', '\"Gingee Fort Gingee\"', '\"Gol Gumbaz Vijayapura\"', '\"Group of Monuments Hampi\"',\n",
              "       '\"Group of Temple Parameshvar shiv and Karan Temple Amarkantak\"', '\"Group of Temples at kiramchi District Udhampur\"', '\"Group of four MaidansCharaideo Sibasagar\"',\n",
              "       '\"Group of monument Royal Palace Mandu\"', '\"Gupta Temple & Varah Temple Deogarh\"', '\"Ibrahim Rauza Bijapur\"', '\"Jaina & Vaishnava Cave Badami\"', '\"Janjira Fort Murd\"',\n",
              "       '\"Kareghar of Ahom Kings Sibasagar\"', '\"Kolaba Fort Alibag\"', '\"Moovarkoil Kodumbalur\"', '\"Natural Caven with inscription eladipattam Sittannavasal\"', '\"Old Fort (Shahi Fort) Jaunpur\"',\n",
              "       '\"Old Fort Sholapur\"', '\"Palace Complex at Ramnagar Distt. Udhampur\"', '\"Ranghar Pavillion Jaisagar\"', '\"Rani Ki-Vav Patan\"', '\"Remains of Patliputra Site of Mauryan Palace Kumrahar\"',\n",
              "       '\"Rock-cut Jain Temple Sittannavasasl\"', '\"Rudabai Step Well Adalaj\"', '\"Ruined Fort kangra\"', '\"Sun Temple Konark\"', '\"Sun temple Modhera\"', '\"Temples & Sculpture Shed lakkumdi\"',\n",
              "       '\"The palace situated in the fort Burhanpur\"', '\"Tiger headed Rock cut temple & two other monuments Saluvankuppam\"', '\"Western Group of Temples Khajuraho\"', 'Aga  Khan Palace Building',\n",
              "       'Agra Fort', \"Ahom Raja's Palace\", 'Ajanta Caves', 'Akbar Tomb Sikandra', 'Amaravati mahastupa', 'Ancient Buddhist Site known as Chaukhandi stupa', 'Ancient Palace Leh',\n",
              "       'Ancient Remains on both Udaigiri & Khandagiri Hills', 'Ancient Site Bhangarh', 'Ancient Site of Vikramshila Antichak', 'Aurangabad Caves', 'Baori at Abhaneri', 'Bellary Fort',\n",
              "       'Bir Singh Palace Datia', 'Bishnudol', 'Bishnupur Temples', 'Buddhist Caves', 'Buddhist Caves Kanheri', 'Caves 1 t0 20 Udaygiri Vidisha', 'Chandragiri Monument', 'Charminar',\n",
              "       'Chittaurgarh Fort', 'Cooch Bihar Palace', 'Dariya Daulath Bagh', 'Daulatabad Fort', 'Deeg Bhawan', 'Durga temple complex Aihole', 'Elephanta Caves', 'Ellora Caves',\n",
              "       'Excavated Remains at Nalanda', 'Excavated Remains at sarnath', 'Fatehpur Sikri', 'Fort Vattakottai', 'Fortress and Temple Chitrudurga Fort', 'Gawilgarh Fort', 'Golconda', 'Grand Total',\n",
              "       'Group of Monuments (WH) Pattadakal', 'Group of Monuments Mamallapuram', 'Gwalior Fort', 'Hauzkhas', 'Hazarduari Palace', \"Hoshang Shah's Tomb\", 'Humayun Tomb', 'Itimad-ud-Daulah-Tomb',\n",
              "       'Jantar Mantar', 'Kalinjar Fort', 'Keshava Temple', 'Khan-I-Khana', 'Kondiote Caves', 'Kotla Feroz Shah', 'Kumbhalgarh Fort', 'Lohgad Fort', 'Lord Cornwallis Tomb',\n",
              "       'Marble Pavillion and balustrade on the Ana Sagar bund and ruins of the marble Hammam Behind the Ana sagar Bund', 'Mariam tomb Sikandra', 'Mausoleum', 'Mehtab Bagh', 'Metcelf-Hall',\n",
              "       'Nagarjuna Kunda', 'Observatory of Man Singh', 'Palace of Tipu Sultan', 'Pandulena Caves', 'Piprahwa & Ganwaria', 'Purana Qila', 'Qutub Minar', 'Raigad Fort', 'Rajarani Temple', 'Ram Bagh',\n",
              "       'Rani Jhansi Fort', 'Rani Lakshmi Bai Mahal', 'Red Fort', 'Residency Building', 'Rock-cut Temples and Sculptures', \"Roopmati's Pavilion\", 'Ruins of Buddhist Temples and Images lalitgiri',\n",
              "       'Safdarjung Tomb', 'Shaniwarwada', \"Sheikh Chilli's Tomb\", \"Sher Shah's Tomb\", 'Site of Sahet mahet', 'Sultanghari Tomb', 'Suraj Kund', 'Taj Mahal',\n",
              "       'Temple of Laxman and Old sites including sculptures sirpur', 'The Hill Containing Many Valuable Sculptures and Images Ratnagiri', \"Tirumalai Nayak's Palace Srivilliputhur\",\n",
              "       'Tomb of Lal Khan', 'Tomb of Rabia Durani (Bibi ka Maqbara)', 'Total', 'Tughluqabad', 'Undavalli caves', 'Upper Fort Aguada', 'Warangal', 'mattancherry Palace Museum Kochi'], dtype='<U110')"
            ]
          },
          "execution_count": 87,
          "metadata": {},
          "output_type": "execute_result"
        }
      ],
      "source": [
        "# Extrai os valores únicos da variável\n",
        "np.unique(strings[:,1])"
      ]
    },
    {
      "cell_type": "code",
      "execution_count": null,
      "metadata": {
        "id": "Kw5VDt5SmxaW",
        "outputId": "196eea9d-e2da-46a2-c585-5dff176ba053"
      },
      "outputs": [
        {
          "data": {
            "text/plain": [
              "(146,)"
            ]
          },
          "execution_count": 89,
          "metadata": {},
          "output_type": "execute_result"
        }
      ],
      "source": [
        "# Mostra a quantidade de valores unicos \n",
        "monumento_numero = np.unique(strings[:,1])\n",
        "monumento_numero.shape"
      ]
    },
    {
      "cell_type": "code",
      "execution_count": null,
      "metadata": {
        "id": "WtahKtfqmxaW"
      },
      "outputs": [],
      "source": [
        "monumento  = np.array(['\"Ancient Buddhist Remains comprising monastery stupa rock sculptures inscriptions ect Mansur\"', '\"Ancient Site and Adamgrah rock shelter Kalamdi Rasuliya and kishanpur\"',\n",
        "       '\"Ancient site of Vaishali Kolhua\"', '\"Asokan Rock Edict Jungadh\"', '\"Avantiswamin Temple Avantipur District Pulwama\"', '\"Baba Pyara Caves Junagadh & Khapra Khodiya Caves Junagadh\"',\n",
        "       '\"Badal Mahal Gatwway Chanderi\"', '\"Bekal Fort Pallikkare Distt. Kasargod\"', '\"Buddhish Caves Junagadh\"', '\"Buddhist Monuments Sanchi\"',\n",
        "       '\"Buddhist Remains on hill top at Guntupalli W.G.District\"', '\"Buddhist cave no 01 to 51 Dhamnar Tehsil Garoth\"', '\"Cave Temple & Inscriptions Bhaja\"',\n",
        "       '\"Cave Temple and Inscriptions Junaar Lenyadri\"', '\"Caves Temples and inscriptions Karla\"', '\"Champaner Monuments Pavagadh\"', '\"Fort Museum Thirumayam\"', '\"Fort Palakkad Palakkad\"',\n",
        "       '\"Fort St. Angelo Kannur\"', '\"Fort on Rock Dindigual\"', '\"Gingee Fort Gingee\"', '\"Gol Gumbaz Vijayapura\"', '\"Group of Monuments Hampi\"',\n",
        "       '\"Group of Temple Parameshvar shiv and Karan Temple Amarkantak\"', '\"Group of Temples at kiramchi District Udhampur\"', '\"Group of four MaidansCharaideo Sibasagar\"',\n",
        "       '\"Group of monument Royal Palace Mandu\"', '\"Gupta Temple & Varah Temple Deogarh\"', '\"Ibrahim Rauza Bijapur\"', '\"Jaina & Vaishnava Cave Badami\"', '\"Janjira Fort Murd\"',\n",
        "       '\"Kareghar of Ahom Kings Sibasagar\"', '\"Kolaba Fort Alibag\"', '\"Moovarkoil Kodumbalur\"', '\"Natural Caven with inscription eladipattam Sittannavasal\"', '\"Old Fort (Shahi Fort) Jaunpur\"',\n",
        "       '\"Old Fort Sholapur\"', '\"Palace Complex at Ramnagar Distt. Udhampur\"', '\"Ranghar Pavillion Jaisagar\"', '\"Rani Ki-Vav Patan\"', '\"Remains of Patliputra Site of Mauryan Palace Kumrahar\"',\n",
        "       '\"Rock-cut Jain Temple Sittannavasasl\"', '\"Rudabai Step Well Adalaj\"', '\"Ruined Fort kangra\"', '\"Sun Temple Konark\"', '\"Sun temple Modhera\"', '\"Temples & Sculpture Shed lakkumdi\"',\n",
        "       '\"The palace situated in the fort Burhanpur\"', '\"Tiger headed Rock cut temple & two other monuments Saluvankuppam\"', '\"Western Group of Temples Khajuraho\"', 'Aga  Khan Palace Building',\n",
        "       'Agra Fort', \"Ahom Raja's Palace\", 'Ajanta Caves', 'Akbar Tomb Sikandra', 'Amaravati mahastupa', 'Ancient Buddhist Site known as Chaukhandi stupa', 'Ancient Palace Leh',\n",
        "       'Ancient Remains on both Udaigiri & Khandagiri Hills', 'Ancient Site Bhangarh', 'Ancient Site of Vikramshila Antichak', 'Aurangabad Caves', 'Baori at Abhaneri', 'Bellary Fort',\n",
        "       'Bir Singh Palace Datia', 'Bishnudol', 'Bishnupur Temples', 'Buddhist Caves', 'Buddhist Caves Kanheri', 'Caves 1 t0 20 Udaygiri Vidisha', 'Chandragiri Monument', 'Charminar',\n",
        "       'Chittaurgarh Fort', 'Cooch Bihar Palace', 'Dariya Daulath Bagh', 'Daulatabad Fort', 'Deeg Bhawan', 'Durga temple complex Aihole', 'Elephanta Caves', 'Ellora Caves',\n",
        "       'Excavated Remains at Nalanda', 'Excavated Remains at sarnath', 'Fatehpur Sikri', 'Fort Vattakottai', 'Fortress and Temple Chitrudurga Fort', 'Gawilgarh Fort', 'Golconda', 'Grand Total',\n",
        "       'Group of Monuments (WH) Pattadakal', 'Group of Monuments Mamallapuram', 'Gwalior Fort', 'Hauzkhas', 'Hazarduari Palace', \"Hoshang Shah's Tomb\", 'Humayun Tomb', 'Itimad-ud-Daulah-Tomb',\n",
        "       'Jantar Mantar', 'Kalinjar Fort', 'Keshava Temple', 'Khan-I-Khana', 'Kondiote Caves', 'Kotla Feroz Shah', 'Kumbhalgarh Fort', 'Lohgad Fort', 'Lord Cornwallis Tomb',\n",
        "       'Marble Pavillion and balustrade on the Ana Sagar bund and ruins of the marble Hammam Behind the Ana sagar Bund', 'Mariam tomb Sikandra', 'Mausoleum', 'Mehtab Bagh', 'Metcelf-Hall',\n",
        "       'Nagarjuna Kunda', 'Observatory of Man Singh', 'Palace of Tipu Sultan', 'Pandulena Caves', 'Piprahwa & Ganwaria', 'Purana Qila', 'Qutub Minar', 'Raigad Fort', 'Rajarani Temple', 'Ram Bagh',\n",
        "       'Rani Jhansi Fort', 'Rani Lakshmi Bai Mahal', 'Red Fort', 'Residency Building', 'Rock-cut Temples and Sculptures', \"Roopmati's Pavilion\", 'Ruins of Buddhist Temples and Images lalitgiri',\n",
        "       'Safdarjung Tomb', 'Shaniwarwada', \"Sheikh Chilli's Tomb\", \"Sher Shah's Tomb\", 'Site of Sahet mahet', 'Sultanghari Tomb', 'Suraj Kund', 'Taj Mahal',\n",
        "       'Temple of Laxman and Old sites including sculptures sirpur', 'The Hill Containing Many Valuable Sculptures and Images Ratnagiri', \"Tirumalai Nayak's Palace Srivilliputhur\",\n",
        "       'Tomb of Lal Khan', 'Tomb of Rabia Durani (Bibi ka Maqbara)', 'Total', 'Tughluqabad', 'Undavalli caves', 'Upper Fort Aguada', 'Warangal', 'mattancherry Palace Museum Kochi'])"
      ]
    },
    {
      "cell_type": "code",
      "execution_count": null,
      "metadata": {
        "id": "KAGl13ehmxaX",
        "outputId": "dfd39750-26d3-4166-8d50-c71e4f3f3ef8"
      },
      "outputs": [
        {
          "data": {
            "text/plain": [
              "array(['134', '51', '82', '54', '106', '95', '119', '108', '107', '140', '131', '123', '114', '140', '27', '97', '121', '120', '140', '104', '35', '111', '81', '138', '56', '140', '7', '145', '17',\n",
              "       '18', '140', '89', '20', '140', '19', '33', '41', '137', '34', '16', '83', '140', '67', '47', '93', '26', '125', '9', '90', '11', '6', '69', '64', '140', '1', '49', '23', '140', '77', '29',\n",
              "       '88', '21', '28', '46', '140', '22', '63', '140', '74', '98', '112', '84', '140', '73', '92', '140', '66', '109', '140', '3', '8', '5', '140', '15', '45', '39', '42', '140', '44', '58', '118',\n",
              "       '136', '126', '140', '53', '79', '139', '75', '113', '61', '140', '78', '68', '128', '50', '13', '14', '12', '117', '32', '36', '30', '100', '103', '140', '85', '0', '140', '133', '129',\n",
              "       '140', '99', '132', '141', '122', '94', '116', '91', '96', '127', '101', '115', '140', '52', '31', '38', '65', '25', '140', '143', '140', '71', '86', '144', '140', '59', '62', '76', '140',\n",
              "       '72', '102', '105', '140', '57', '140', '40', '2', '80', '60', '130', '140', '135', '140', '43', '124', '140', '37', '4', '24', '140', '55', '142', '110', '70', '10', '140', '87'],\n",
              "      dtype='<U110')"
            ]
          },
          "execution_count": 17,
          "metadata": {},
          "output_type": "execute_result"
        }
      ],
      "source": [
        "# Loop para converter os nomes dos monumentos em valores numéricos\n",
        "# Chamamos isso de label encoding\n",
        "for i in range(146):\n",
        "        strings[:,1] = np.where(strings[:,1] == monumento[i], i, strings[:,1])\n",
        "strings[:,1]  "
      ]
    },
    {
      "cell_type": "code",
      "execution_count": null,
      "metadata": {
        "id": "DEd3sscTmxaX"
      },
      "outputs": [],
      "source": []
    }
  ],
  "metadata": {
    "kernelspec": {
      "display_name": "Python 3",
      "language": "python",
      "name": "python3"
    },
    "language_info": {
      "codemirror_mode": {
        "name": "ipython",
        "version": 3
      },
      "file_extension": ".py",
      "mimetype": "text/x-python",
      "name": "python",
      "nbconvert_exporter": "python",
      "pygments_lexer": "ipython3",
      "version": "3.10.4"
    },
    "orig_nbformat": 4,
    "vscode": {
      "interpreter": {
        "hash": "3ad933181bd8a04b432d3370b9dc3b0662ad032c4dfaa4e4f1596c548f763858"
      }
    },
    "colab": {
      "provenance": [],
      "include_colab_link": true
    }
  },
  "nbformat": 4,
  "nbformat_minor": 0
}
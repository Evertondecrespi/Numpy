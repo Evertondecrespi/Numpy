{
 "cells": [
  {
   "attachments": {},
   "cell_type": "markdown",
   "metadata": {},
   "source": [
    "# <font color='White'>Mini projeto Numpy</font>"
   ]
  },
  {
   "attachments": {},
   "cell_type": "markdown",
   "metadata": {},
   "source": [
    "<font color='white'>Objetivo do projeto é fazer a limpeza e o pré-processamento de dados usando apenas o NumPy utilizando uma base de dados indiana que mostra o numero de visitas em varios monumentos locais</font>"
   ]
  },
  {
   "attachments": {},
   "cell_type": "markdown",
   "metadata": {},
   "source": [
    "### Descricao da base de dados\n",
    "<font color='White'>Mostra o número de visitantes que visitaram os monumentos centrais entre 2019 e 2021. PT</font><BR>\n",
    "<font color='white'>It shows the number of visitors who visited the central monuments between 2019 and 2021. ENG</font>"
   ]
  },
  {
   "cell_type": "code",
   "execution_count": 5,
   "metadata": {},
   "outputs": [
    {
     "data": {
      "text/plain": [
       "'Circle - City\\nName of the Monument\\nDomestic-2019-2020: Number of people from India who visited the monument in 2019-20.\\nForeign-2019-20: Number of foreigners who visited the monument in 2019-20.\\nDomestic-2020-21: Number of people from India who visited the monument in 2020-21.\\nForeign-2020-2021: Number of foreigners who visited the monument in 2020-21.\\n% Growth 2021-21/2019-20-Domestic: Growth percentage of domestic visitors from 2019 to 2021.\\n% Growth 2021-21/2019-20-Foreign: Growth percentage of foreign visitors from 2019 to 2021.'"
      ]
     },
     "execution_count": 5,
     "metadata": {},
     "output_type": "execute_result"
    }
   ],
   "source": [
    "# Dicionario de dados\n",
    "\"\"\"Circle - City\n",
    "Name of the Monument\n",
    "Domestic-2019-2020: Number of people from India who visited the monument in 2019-20.\n",
    "Foreign-2019-20: Number of foreigners who visited the monument in 2019-20.\n",
    "Domestic-2020-21: Number of people from India who visited the monument in 2020-21.\n",
    "Foreign-2020-2021: Number of foreigners who visited the monument in 2020-21.\n",
    "% Growth 2021-21/2019-20-Domestic: Growth percentage of domestic visitors from 2019 to 2021.\n",
    "% Growth 2021-21/2019-20-Foreign: Growth percentage of foreign visitors from 2019 to 2021.\"\"\""
   ]
  },
  {
   "cell_type": "markdown",
   "metadata": {},
   "source": [
    "### Importando as bibliotecas"
   ]
  },
  {
   "cell_type": "code",
   "execution_count": 6,
   "metadata": {},
   "outputs": [],
   "source": [
    "# Import\n",
    "import numpy as np\n",
    "\n",
    "# Configuração de impressão do NumPy\n",
    "np.set_printoptions(suppress = True, linewidth = 200, precision = 2)"
   ]
  },
  {
   "cell_type": "markdown",
   "metadata": {},
   "source": [
    "### Carregando o dataset Turismo Indiano"
   ]
  },
  {
   "cell_type": "code",
   "execution_count": 7,
   "metadata": {},
   "outputs": [
    {
     "data": {
      "text/plain": [
       "array([[        nan,         nan,  4429710.  , ...,      -71.56,      -98.6 ,         nan],\n",
       "       [        nan,         nan,  1627154.  , ...,      -77.18,      -99.27,         nan],\n",
       "       [        nan,         nan,   454376.  , ...,      -76.27,      -99.69,         nan],\n",
       "       ...,\n",
       "       [        nan,         nan,    22353.  , ...,      -54.28,      -88.24,         nan],\n",
       "       [        nan,         nan,   262949.  , ...,      -55.84,      -86.41,         nan],\n",
       "       [        nan,         nan, 43607075.  , ...,      -69.84,      -84.91,         nan]])"
      ]
     },
     "execution_count": 7,
     "metadata": {},
     "output_type": "execute_result"
    }
   ],
   "source": [
    "# Carrega as colunas do tipo string\n",
    "df01 = np.genfromtxt(\"India-Tourism-2021.csv\",\n",
    "                            delimiter = ';',\n",
    "                            skip_header = 1,\n",
    "                            autostrip = True,\n",
    "                            encoding = 'cp1252')\n",
    "df01.view()                        "
   ]
  },
  {
   "cell_type": "code",
   "execution_count": 8,
   "metadata": {},
   "outputs": [
    {
     "data": {
      "text/plain": [
       "(178, 9)"
      ]
     },
     "execution_count": 8,
     "metadata": {},
     "output_type": "execute_result"
    }
   ],
   "source": [
    "df01.shape"
   ]
  },
  {
   "cell_type": "markdown",
   "metadata": {},
   "source": [
    "### Tratando valores ausentes"
   ]
  },
  {
   "cell_type": "code",
   "execution_count": 9,
   "metadata": {},
   "outputs": [
    {
     "data": {
      "text/plain": [
       "537"
      ]
     },
     "execution_count": 9,
     "metadata": {},
     "output_type": "execute_result"
    }
   ],
   "source": [
    "# Observe como várias colunas estão com o tipo nan. \n",
    "# Isso se deve a caracteres especiais no conjunto de dados e a forma como o NumPy carrega dados numéricos e do tipo string. Vamos resolver isso.\n",
    "np.isnan(df01).sum()"
   ]
  },
  {
   "cell_type": "code",
   "execution_count": 10,
   "metadata": {},
   "outputs": [
    {
     "name": "stdout",
     "output_type": "stream",
     "text": [
      "43607076.0\n"
     ]
    }
   ],
   "source": [
    "# Vamos retornar o maior valor + 1 ignorando valores nan\n",
    "# Usaremos esse valor arbitrário para preencher os valores ausentes no momento da carga de dados de variáveis\n",
    "# numéricas e depois tratamos esse valor como valor ausente\n",
    "valor_nulo = np.nanmax(df01) + 1\n",
    "print(valor_nulo)"
   ]
  },
  {
   "cell_type": "code",
   "execution_count": 11,
   "metadata": {},
   "outputs": [
    {
     "name": "stdout",
     "output_type": "stream",
     "text": [
      "[      nan       nan 734950.7   46458.89 221681.06   7008.86    -28.23    937.42       nan]\n"
     ]
    },
    {
     "name": "stderr",
     "output_type": "stream",
     "text": [
      "c:\\ProgramData\\Anaconda3\\lib\\site-packages\\ipykernel_launcher.py:3: RuntimeWarning: Mean of empty slice\n",
      "  This is separate from the ipykernel package so we can avoid doing imports until\n"
     ]
    }
   ],
   "source": [
    "# Calculamos a média (variáveis numéricas) ignorando valores nan por coluna\n",
    "# Usaremos isso para separar variáveis numéricas de variáveis do tipo string\n",
    "media_ignorando_nan = np.nanmean(df01, axis = 0)\n",
    "print(media_ignorando_nan)"
   ]
  },
  {
   "cell_type": "code",
   "execution_count": 12,
   "metadata": {},
   "outputs": [
    {
     "data": {
      "text/plain": [
       "array([0, 1, 8], dtype=int64)"
      ]
     },
     "execution_count": 12,
     "metadata": {},
     "output_type": "execute_result"
    }
   ],
   "source": [
    "# Separando colunas do tipo string com valores ausentes\n",
    "colunas_strings = np.argwhere(np.isnan(media_ignorando_nan)).squeeze()\n",
    "colunas_strings"
   ]
  },
  {
   "cell_type": "code",
   "execution_count": 13,
   "metadata": {},
   "outputs": [
    {
     "data": {
      "text/plain": [
       "array([2, 3, 4, 5, 6, 7], dtype=int64)"
      ]
     },
     "execution_count": 13,
     "metadata": {},
     "output_type": "execute_result"
    }
   ],
   "source": [
    "# Separando as colunas numéricas \n",
    "colunas_numericas = np.argwhere(np.isnan(media_ignorando_nan) == False).squeeze()\n",
    "colunas_numericas"
   ]
  },
  {
   "cell_type": "markdown",
   "metadata": {},
   "source": [
    "### Carregando o dataset Turismo Indiano - Somente string"
   ]
  },
  {
   "cell_type": "code",
   "execution_count": 14,
   "metadata": {},
   "outputs": [
    {
     "data": {
      "text/plain": [
       "array([['Agra', 'Taj Mahal', 'excellent'],\n",
       "       ['Agra', 'Agra Fort', 'good'],\n",
       "       ['Agra', 'Fatehpur Sikri', 'bad'],\n",
       "       ['Agra', 'Akbar Tomb Sikandra', 'bad'],\n",
       "       ['Agra', 'Mariam tomb Sikandra', 'bad'],\n",
       "       ['Agra', 'Itimad-ud-Daulah-Tomb', 'excellent'],\n",
       "       ['Agra', 'Ram Bagh', 'bad'],\n",
       "       ['Agra', 'Mehtab Bagh', 'bad'],\n",
       "       ['Agra', 'Mausoleum', 'bad'],\n",
       "       ['Total', 'Total', 'excellent'],\n",
       "       ['Lucknow', 'Site of Sahet mahet', 'bad'],\n",
       "       ['Lucknow', 'Residency Building', 'bad'],\n",
       "       ['Lucknow', 'Piprahwa & Ganwaria', 'excellent'],\n",
       "       ['Total', 'Total', 'bad'],\n",
       "       ['Jhansi', 'Gupta Temple & Varah Temple  Deogarh', 'bad'],\n",
       "       ['Jhansi', 'Kalinjar Fort', 'good'],\n",
       "       ['Jhansi', 'Rani Lakshmi Bai Mahal', 'good'],\n",
       "       ['Jhansi', 'Rani Jhansi Fort', 'bad'],\n",
       "       ['Total', 'Total', 'excellent'],\n",
       "       ['Sarnath', 'Lord Cornwallis Tomb', 'excellent'],\n",
       "       ['Sarnath', 'Old Fort (Shahi Fort)  Jaunpur', 'bad'],\n",
       "       ['Sarnath', 'Observatory of Man Singh', 'excellent'],\n",
       "       ['Sarnath', 'Excavated Remains at sarnath', 'good'],\n",
       "       ['Sarnath', 'Tomb of Lal Khan', 'excellent'],\n",
       "       ['Sarnath', 'Ancient Buddhist Site known as Chaukhandi stupa', 'excellent'],\n",
       "       ['Total', 'Total', 'excellent'],\n",
       "       ['Thrissur', 'Bekal Fort  Pallikkare  Distt. Kasargod', 'excellent'],\n",
       "       ['Thrissur', 'mattancherry Palace Museum Kochi', 'bad'],\n",
       "       ['Thrissur', 'Fort  Palakkad  Palakkad', 'bad'],\n",
       "       ['Thrissur', 'Fort St. Angelo  Kannur', 'good'],\n",
       "       ['Total', 'Total', 'excellent'],\n",
       "       ['Chennai', 'Group of Monuments Mamallapuram', 'bad'],\n",
       "       ['Chennai', 'Gingee Fort   Gingee', 'bad'],\n",
       "       ['Chennai', 'Tiger headed Rock cut temple & two other monuments  Saluvankuppam', 'good'],\n",
       "       ['Total', 'Total', 'excellent'],\n",
       "       ['Tiruchirappalli', 'Fort on Rock  Dindigual', 'excellent'],\n",
       "       ['Tiruchirappalli', 'Moovarkoil  Kodumbalur', 'good'],\n",
       "       ['Tiruchirappalli', 'Rock-cut Jain Temple  Sittannavasasl', 'bad'],\n",
       "       ['Tiruchirappalli', \"Tirumalai Nayak's Palace Srivilliputhur\", 'bad'],\n",
       "       ['Tiruchirappalli', 'Natural Caven with inscription eladipattam  Sittannavasal', 'excellent'],\n",
       "       ['Tiruchirappalli', 'Fort Museum  Thirumayam', 'bad'],\n",
       "       ['Tiruchirappalli', 'Fort Vattakottai', 'good'],\n",
       "       ['Total', 'Total', 'good'],\n",
       "       ['Bhopal', 'Buddhist Caves', 'good'],\n",
       "       ['Bhopal', 'The palace situated in the fort  Burhanpur', 'excellent'],\n",
       "       ['Bhopal', \"Hoshang Shah's Tomb\", 'good'],\n",
       "       ['Bhopal', 'Group of monument  Royal Palace Mandu', 'good'],\n",
       "       ['Bhopal', \"Roopmati's Pavilion\", 'excellent'],\n",
       "       ['Bhopal', 'Buddhist Monuments  Sanchi', 'excellent'],\n",
       "       ['Bhopal', 'Gwalior Fort', 'good'],\n",
       "       ['Bhopal', 'Buddhist cave no 01 to 51 Dhamnar  Tehsil Garoth', 'bad'],\n",
       "       ['Bhopal', 'Badal Mahal Gatwway  Chanderi', 'bad'],\n",
       "       ['Bhopal', 'Caves 1 t0 20 Udaygiri Vidisha', 'excellent'],\n",
       "       ['Bhopal', 'Bir Singh Palace Datia', 'bad'],\n",
       "       ['Total', 'Total', 'excellent'],\n",
       "       ['Jabalpur', 'Ancient Site and Adamgrah rock shelter  Kalamdi Rasuliya and kishanpur', 'bad'],\n",
       "       ['Jabalpur', 'Western Group of Temples  Khajuraho', 'bad'],\n",
       "       ['Jabalpur', 'Group of Temple Parameshvar shiv and Karan Temple  Amarkantak', 'bad'],\n",
       "       ['Total', 'Total', 'good'],\n",
       "       ['Dharwad', 'Durga temple complex Aihole', 'bad'],\n",
       "       ['Dharwad', 'Jaina & Vaishnava Cave  Badami', 'bad'],\n",
       "       ['Dharwad', 'Group of Monuments (WH) Pattadakal', 'good'],\n",
       "       ['Dharwad', 'Gol Gumbaz  Vijayapura', 'good'],\n",
       "       ['Dharwad', 'Ibrahim Rauza  Bijapur', 'excellent'],\n",
       "       ['Dharwad', 'Temples & Sculpture Shed  lakkumdi', 'bad'],\n",
       "       ['Total', 'Total', 'excellent'],\n",
       "       ['Hampi', 'Group of Monuments  Hampi', 'bad'],\n",
       "       ['Hampi', 'Bellary Fort', 'bad'],\n",
       "       ['Total', 'Total', 'excellent'],\n",
       "       ['Banglore', 'Dariya Daulath Bagh', 'excellent'],\n",
       "       ['Banglore', 'Keshava Temple', 'excellent'],\n",
       "       ['Banglore', 'Palace of Tipu Sultan', 'good'],\n",
       "       ['Banglore', 'Fortress and Temple Chitrudurga Fort', 'good'],\n",
       "       ['Total', 'Total', 'excellent'],\n",
       "       ['Raiganj', 'Cooch Bihar Palace', 'bad'],\n",
       "       ['Raiganj', 'Hazarduari Palace', 'good'],\n",
       "       ['Total', 'Total', 'good'],\n",
       "       ['Kolkata', 'Bishnupur Temples', 'excellent'],\n",
       "       ['Kolkata', 'Metcelf-Hall', 'bad'],\n",
       "       ['Total', 'Total', 'excellent'],\n",
       "       ['Rajkot', 'Asokan Rock Edict  Jungadh', 'good'],\n",
       "       ['Rajkot', 'Buddhish Caves  Junagadh', 'bad'],\n",
       "       ['Rajkot', 'Baba Pyara Caves Junagadh & Khapra Khodiya Caves  Junagadh', 'excellent'],\n",
       "       ['Total', 'Total', 'good'],\n",
       "       ['Vadodara', 'Champaner Monuments  Pavagadh', 'bad'],\n",
       "       ['Vadodara', 'Sun temple  Modhera', 'good'],\n",
       "       ['Vadodara', 'Rani Ki-Vav  Patan', 'excellent'],\n",
       "       ['Vadodara', 'Rudabai Step Well  Adalaj', 'bad'],\n",
       "       ['Total', 'Total', 'excellent'],\n",
       "       ['Bhubaneswar', 'Sun Temple  Konark', 'good'],\n",
       "       ['Bhubaneswar', 'Ancient Remains on both Udaigiri & Khandagiri Hills', 'excellent'],\n",
       "       ['Bhubaneswar', 'Rajarani Temple', 'excellent'],\n",
       "       ['Bhubaneswar', 'The Hill Containing Many Valuable Sculptures and Images Ratnagiri', 'bad'],\n",
       "       ['Bhubaneswar', 'Ruins of Buddhist Temples and Images lalitgiri', 'bad'],\n",
       "       ['Total', 'Total', 'bad'],\n",
       "       ['Aurangabad', 'Ajanta Caves', 'bad'],\n",
       "       ['Aurangabad', 'Ellora Caves', 'bad'],\n",
       "       ['Aurangabad', 'Tomb of Rabia Durani (Bibi ka Maqbara)', 'good'],\n",
       "       ['Aurangabad', 'Daulatabad Fort', 'bad'],\n",
       "       ['Aurangabad', 'Pandulena Caves', 'good'],\n",
       "       ['Aurangabad', 'Aurangabad Caves', 'excellent'],\n",
       "       ['Total', 'Total', 'good'],\n",
       "       ['Mumbai', 'Elephanta Caves', 'good'],\n",
       "       ['Mumbai', 'Buddhist Caves Kanheri', 'bad'],\n",
       "       ['Mumbai', 'Shaniwarwada', 'bad'],\n",
       "       ['Mumbai', 'Aga  Khan Palace Building', 'excellent'],\n",
       "       ['Mumbai', 'Cave  Temple and Inscriptions  Junaar  Lenyadri', 'bad'],\n",
       "       ['Mumbai', 'Caves  Temples and inscriptions Karla', 'bad'],\n",
       "       ['Mumbai', 'Cave Temple & Inscriptions  Bhaja', 'excellent'],\n",
       "       ['Mumbai', 'Raigad Fort', 'excellent'],\n",
       "       ['Mumbai', 'Kolaba Fort  Alibag', 'bad'],\n",
       "       ['Mumbai', 'Old Fort  Sholapur', 'excellent'],\n",
       "       ['Mumbai', 'Janjira Fort  Murd', 'bad'],\n",
       "       ['Mumbai', 'Kondiote Caves', 'good'],\n",
       "       ['Mumbai', 'Lohgad Fort', 'bad'],\n",
       "       ['Total', 'Total', 'bad'],\n",
       "       ['Nagpur', 'Gawilgarh Fort', 'good'],\n",
       "       ['Nagpur', 'Ancient Buddhist Remains comprising monastery stupa  rock sculptures  inscriptions ect Mansur', 'bad'],\n",
       "       ['Total', 'Total', 'excellent'],\n",
       "       ['Chandigarh', 'Suraj Kund', 'excellent'],\n",
       "       ['Chandigarh', \"Sheikh Chilli's Tomb\", 'bad'],\n",
       "       ['Total', 'Total', 'good'],\n",
       "       ['Delhi', 'Khan-I-Khana', 'good'],\n",
       "       ['Delhi', 'Sultanghari Tomb', 'bad'],\n",
       "       ['Delhi', 'Tughluqabad', 'excellent'],\n",
       "       ['Delhi', 'Red Fort', 'excellent'],\n",
       "       ['Delhi', 'Humayun Tomb', 'excellent'],\n",
       "       ['Delhi', 'Qutub Minar', 'bad'],\n",
       "       ['Delhi', 'Hauzkhas', 'bad'],\n",
       "       ['Delhi', 'Jantar Mantar', 'bad'],\n",
       "       ['Delhi', 'Safdarjung Tomb', 'bad'],\n",
       "       ['Delhi', 'Kotla Feroz Shah', 'good'],\n",
       "       ['Delhi', 'Purana Qila', 'good'],\n",
       "       ['Total', 'Total', 'good'],\n",
       "       ['Guwahati', \"Ahom Raja's Palace\", 'good'],\n",
       "       ['Guwahati', 'Kareghar of Ahom Kings  Sibasagar', 'bad'],\n",
       "       ['Guwahati', 'Ranghar Pavillion  Jaisagar', 'bad'],\n",
       "       ['Guwahati', 'Bishnudol', 'bad'],\n",
       "       ['Guwahati', 'Group of four MaidansCharaideo  Sibasagar', 'excellent'],\n",
       "       ['Total', 'Total', 'good'],\n",
       "       ['Goa', 'Upper Fort Aguada', 'good'],\n",
       "       ['Total', 'Total', 'bad'],\n",
       "       ['Hyderabad', 'Charminar', 'bad'],\n",
       "       ['Hyderabad', 'Golconda', 'excellent'],\n",
       "       ['Hyderabad', 'Warangal', 'good'],\n",
       "       ['Total', 'Total', 'excellent'],\n",
       "       ['Jaipur', 'Ancient Site Bhangarh', 'excellent'],\n",
       "       ['Jaipur', 'Baori at Abhaneri', 'bad'],\n",
       "       ['Jaipur', 'Deeg Bhawan', 'bad'],\n",
       "       ['Total', 'Total', 'good'],\n",
       "       ['Jodhpur', 'Chittaurgarh Fort', 'good'],\n",
       "       ['Jodhpur', 'Kumbhalgarh Fort', 'bad'],\n",
       "       ['Jodhpur', 'Marble Pavillion and balustrade on the Ana Sagar bund and ruins of the marble Hammam Behind the Ana sagar Bund', 'good'],\n",
       "       ['Total', 'Total', 'good'],\n",
       "       ['Leh', 'Ancient Palace Leh', 'bad'],\n",
       "       ['Total', 'Total', 'good'],\n",
       "       ['Patna', 'Remains of Patliputra Site of Mauryan Palace  Kumrahar', 'excellent'],\n",
       "       ['Patna', 'Ancient site of Vaishali  Kolhua', 'bad'],\n",
       "       ['Patna', 'Excavated Remains at Nalanda', 'bad'],\n",
       "       ['Patna', 'Ancient Site of Vikramshila Antichak', 'good'],\n",
       "       ['Patna', \"Sher Shah's Tomb\", 'bad'],\n",
       "       ['Total', 'Total', 'bad'],\n",
       "       ['Raipur', 'Temple of Laxman and Old sites including sculptures sirpur', 'good'],\n",
       "       ['Total', 'Total', 'bad'],\n",
       "       ['Shimla', 'Ruined Fort  kangra', 'good'],\n",
       "       ['Shimla', 'Rock-cut Temples and Sculptures', 'good'],\n",
       "       ['Total', 'Total', 'excellent'],\n",
       "       ['Srinagar', 'Palace Complex at Ramnagar  Distt. Udhampur', 'excellent'],\n",
       "       ['Srinagar', 'Avantiswamin Temple  Avantipur  District Pulwama', 'excellent'],\n",
       "       ['Srinagar', 'Group of Temples at kiramchi  District Udhampur', 'good'],\n",
       "       ['Total', 'Total', 'bad'],\n",
       "       ['Amaravati', 'Amaravati mahastupa', 'bad'],\n",
       "       ['Amaravati', 'Undavalli caves', 'good'],\n",
       "       ['Amaravati', 'Nagarjuna Kunda', 'good'],\n",
       "       ['Amaravati', 'Chandragiri Monument', 'good'],\n",
       "       ['Amaravati', 'Buddhist Remains on hill top at Guntupalli  W.G.District', 'excellent'],\n",
       "       ['Total', 'Total', 'bad'],\n",
       "       ['Grand Total', 'Grand Total', 'bad']], dtype='<U110')"
      ]
     },
     "execution_count": 14,
     "metadata": {},
     "output_type": "execute_result"
    }
   ],
   "source": [
    "# Carrega novamente os dados das colunas do tipo string\n",
    "strings = np.genfromtxt(\"India-Tourism-2021.csv\",\n",
    "                            delimiter = ';',\n",
    "                            skip_header = 1,\n",
    "                            autostrip = True, \n",
    "                            usecols = colunas_strings,\n",
    "                            dtype = str, \n",
    "                            encoding = 'cp1252')\n",
    "strings"
   ]
  },
  {
   "cell_type": "markdown",
   "metadata": {},
   "source": [
    "### Carregando o dataset Turismo Indiano - Somente Numerico"
   ]
  },
  {
   "cell_type": "code",
   "execution_count": 15,
   "metadata": {},
   "outputs": [
    {
     "data": {
      "text/plain": [
       "array([[ 4429710.  ,   645415.  ,  1259892.  ,     9034.  ,      -71.56,      -98.6 ],\n",
       "       [ 1627154.  ,   386522.  ,   371242.  ,     2810.  ,      -77.18,      -99.27],\n",
       "       [  454376.  ,   184751.  ,   107835.  ,      574.  ,      -76.27,      -99.69],\n",
       "       ...,\n",
       "       [   22353.  ,       85.  ,    10219.  ,       10.  ,      -54.28,      -88.24],\n",
       "       [  262949.  ,     1008.  ,   116120.  ,      137.  ,      -55.84,      -86.41],\n",
       "       [43607075.  ,  2756561.  , 13153076.  ,   415859.  ,      -69.84,      -84.91]])"
      ]
     },
     "execution_count": 15,
     "metadata": {},
     "output_type": "execute_result"
    }
   ],
   "source": [
    "# Carrega as colunas do tipo numérico preenchendo os valores ausentes\n",
    "numeric = np.genfromtxt(\"India-Tourism-2021.csv\",\n",
    "                            delimiter = ';',\n",
    "                            autostrip = True,\n",
    "                            skip_header = 1,\n",
    "                            usecols = colunas_numericas,\n",
    "                            filling_values = valor_nulo, \n",
    "                            encoding = 'cp1252')\n",
    "numeric"
   ]
  },
  {
   "cell_type": "markdown",
   "metadata": {},
   "source": [
    "### Carregando o dataset Turismo Indiano - Somente nome das colunas"
   ]
  },
  {
   "cell_type": "code",
   "execution_count": 16,
   "metadata": {},
   "outputs": [
    {
     "data": {
      "text/plain": [
       "array(['Circle', 'Name of the Monument', 'Domestic-2019-20', 'Foreign-2019-20', 'Domestic-2020-21', 'Foreign-2020-21', '% Growth 2021-21/2019-20-Domestic', '% Growth 2021-21/2019-20-Foreign',\n",
       "       'assessment'], dtype='<U33')"
      ]
     },
     "execution_count": 16,
     "metadata": {},
     "output_type": "execute_result"
    }
   ],
   "source": [
    "# Carrega os nomes das colunas\n",
    "arr_nomes_colunas = np.genfromtxt(\"India-Tourism-2021.csv\",\n",
    "                                  delimiter = ';',\n",
    "                                  autostrip = True,\n",
    "                                  skip_footer = df01.shape[0],\n",
    "                                  dtype = str, \n",
    "                                  encoding = 'cp1252')\n",
    "arr_nomes_colunas"
   ]
  },
  {
   "cell_type": "code",
   "execution_count": 17,
   "metadata": {},
   "outputs": [
    {
     "data": {
      "text/plain": [
       "(array(['Circle', 'Name of the Monument', 'assessment'], dtype='<U33'),\n",
       " array(['Domestic-2019-20', 'Foreign-2019-20', 'Domestic-2020-21', 'Foreign-2020-21', '% Growth 2021-21/2019-20-Domestic', '% Growth 2021-21/2019-20-Foreign'], dtype='<U33'))"
      ]
     },
     "execution_count": 17,
     "metadata": {},
     "output_type": "execute_result"
    }
   ],
   "source": [
    "# Separa cabeçalho de colunas numéricas e string\n",
    "header_strings, header_numeric = arr_nomes_colunas[colunas_strings], arr_nomes_colunas[colunas_numericas]\n",
    "header_strings, header_numeric"
   ]
  },
  {
   "cell_type": "markdown",
   "metadata": {},
   "source": [
    "### Renomando as colunas"
   ]
  },
  {
   "cell_type": "code",
   "execution_count": 18,
   "metadata": {},
   "outputs": [
    {
     "data": {
      "text/plain": [
       "array(['Cidade', 'Monumento', 'Avaliacao'], dtype='<U33')"
      ]
     },
     "execution_count": 18,
     "metadata": {},
     "output_type": "execute_result"
    }
   ],
   "source": [
    "# Vamos ajustar o nome das colunas para facilitar a identificação\n",
    "header_strings[0] = \"Cidade\"\n",
    "header_strings[1] = \"Monumento\"\n",
    "header_strings[2] = \"Avaliacao\"\n",
    "header_strings"
   ]
  },
  {
   "cell_type": "code",
   "execution_count": 19,
   "metadata": {},
   "outputs": [
    {
     "data": {
      "text/plain": [
       "array(['Domestico-2019-20', 'Estrangeiro-2019-20', 'Domestico-2020-21', 'Estrangeiro-2020-21', 'Crescimento-Domestico-21/19', 'Crescimento-Estrangeiro-21/19'], dtype='<U33')"
      ]
     },
     "execution_count": 19,
     "metadata": {},
     "output_type": "execute_result"
    }
   ],
   "source": [
    "# Vamos ajustar o nome das colunas para facilitar a identificação\n",
    "header_numeric[0] = \"Domestico-2019-20\"\n",
    "header_numeric[1] = \"Estrangeiro-2019-20\"\n",
    "header_numeric[2] = \"Domestico-2020-21\"\n",
    "header_numeric[3] = \"Estrangeiro-2020-21\"\n",
    "header_numeric[4] = \"Crescimento-Domestico-21/19\"\n",
    "header_numeric[5] = \"Crescimento-Estrangeiro-21/19\"\n",
    "header_numeric"
   ]
  },
  {
   "cell_type": "markdown",
   "metadata": {},
   "source": [
    "### Pré-Processamento da Variável cidade com Label Encoding"
   ]
  },
  {
   "cell_type": "code",
   "execution_count": 20,
   "metadata": {},
   "outputs": [
    {
     "data": {
      "text/plain": [
       "array(['Agra', 'Amaravati', 'Aurangabad', 'Banglore', 'Bhopal', 'Bhubaneswar', 'Chandigarh', 'Chennai', 'Delhi', 'Dharwad', 'Goa', 'Grand Total', 'Guwahati', 'Hampi', 'Hyderabad', 'Jabalpur',\n",
       "       'Jaipur', 'Jhansi', 'Jodhpur', 'Kolkata', 'Leh', 'Lucknow', 'Mumbai', 'Nagpur', 'Patna', 'Raiganj', 'Raipur', 'Rajkot', 'Sarnath', 'Shimla', 'Srinagar', 'Thrissur', 'Tiruchirappalli', 'Total',\n",
       "       'Vadodara'], dtype='<U110')"
      ]
     },
     "execution_count": 20,
     "metadata": {},
     "output_type": "execute_result"
    }
   ],
   "source": [
    "# Extrai os valores únicos da variável\n",
    "np.unique(strings[:,0])"
   ]
  },
  {
   "cell_type": "code",
   "execution_count": 21,
   "metadata": {},
   "outputs": [
    {
     "data": {
      "text/plain": [
       "(35,)"
      ]
     },
     "execution_count": 21,
     "metadata": {},
     "output_type": "execute_result"
    }
   ],
   "source": [
    "# Mostra a quantidade de valores unicos \n",
    "cidades_numero = np.unique(strings[:,0])\n",
    "cidades_numero.shape"
   ]
  },
  {
   "cell_type": "code",
   "execution_count": 22,
   "metadata": {},
   "outputs": [],
   "source": [
    "# Criamos um array com os meses (incluindo um elemento como vazio para o que estiver em branco)\n",
    "cidades = np.array(['Agra', 'Amaravati', 'Aurangabad', 'Banglore', 'Bhopal', 'Bhubaneswar', 'Chandigarh', 'Chennai', 'Delhi', 'Dharwad', 'Goa', 'Grand Total', 'Guwahati', 'Hampi', 'Hyderabad', 'Jabalpur',\n",
    "       'Jaipur', 'Jhansi', 'Jodhpur', 'Kolkata', 'Leh', 'Lucknow', 'Mumbai', 'Nagpur', 'Patna', 'Raiganj', 'Raipur', 'Rajkot', 'Sarnath', 'Shimla', 'Srinagar', 'Thrissur', 'Tiruchirappalli', 'Total',\n",
    "       'Vadodara'])"
   ]
  },
  {
   "cell_type": "code",
   "execution_count": 23,
   "metadata": {},
   "outputs": [
    {
     "data": {
      "text/plain": [
       "array(['0', '0', '0', '0', '0', '0', '0', '0', '0', '33', '21', '21', '21', '33', '17', '17', '17', '17', '33', '28', '28', '28', '28', '28', '28', '33', '31', '31', '31', '31', '33', '7', '7', '7',\n",
       "       '33', '32', '32', '32', '32', '32', '32', '32', '33', '4', '4', '4', '4', '4', '4', '4', '4', '4', '4', '4', '33', '15', '15', '15', '33', '9', '9', '9', '9', '9', '9', '33', '13', '13', '33',\n",
       "       '3', '3', '3', '3', '33', '25', '25', '33', '19', '19', '33', '27', '27', '27', '33', '34', '34', '34', '34', '33', '5', '5', '5', '5', '5', '33', '2', '2', '2', '2', '2', '2', '33', '22',\n",
       "       '22', '22', '22', '22', '22', '22', '22', '22', '22', '22', '22', '22', '33', '23', '23', '33', '6', '6', '33', '8', '8', '8', '8', '8', '8', '8', '8', '8', '8', '8', '33', '12', '12', '12',\n",
       "       '12', '12', '33', '10', '33', '14', '14', '14', '33', '16', '16', '16', '33', '18', '18', '18', '33', '20', '33', '24', '24', '24', '24', '24', '33', '26', '33', '29', '29', '33', '30', '30',\n",
       "       '30', '33', '1', '1', '1', '1', '1', '33', '11'], dtype='<U110')"
      ]
     },
     "execution_count": 23,
     "metadata": {},
     "output_type": "execute_result"
    }
   ],
   "source": [
    "# Loop para converter os nomes das cidades em valores numéricos\n",
    "# Chamamos isso de label encoding\n",
    "for i in range(35):\n",
    "        strings[:,0] = np.where(strings[:,0] == cidades[i], i, strings[:,0])\n",
    "strings[:,0]        "
   ]
  },
  {
   "cell_type": "code",
   "execution_count": 24,
   "metadata": {},
   "outputs": [
    {
     "data": {
      "text/plain": [
       "array(['Aga  Khan Palace Building', 'Agra Fort', \"Ahom Raja's Palace\", 'Ajanta Caves', 'Akbar Tomb Sikandra', 'Amaravati mahastupa',\n",
       "       'Ancient Buddhist Remains comprising monastery stupa  rock sculptures  inscriptions ect Mansur', 'Ancient Buddhist Site known as Chaukhandi stupa', 'Ancient Palace Leh',\n",
       "       'Ancient Remains on both Udaigiri & Khandagiri Hills', 'Ancient Site Bhangarh', 'Ancient Site and Adamgrah rock shelter  Kalamdi Rasuliya and kishanpur',\n",
       "       'Ancient Site of Vikramshila Antichak', 'Ancient site of Vaishali  Kolhua', 'Asokan Rock Edict  Jungadh', 'Aurangabad Caves', 'Avantiswamin Temple  Avantipur  District Pulwama',\n",
       "       'Baba Pyara Caves Junagadh & Khapra Khodiya Caves  Junagadh', 'Badal Mahal Gatwway  Chanderi', 'Baori at Abhaneri', 'Bekal Fort  Pallikkare  Distt. Kasargod', 'Bellary Fort',\n",
       "       'Bir Singh Palace Datia', 'Bishnudol', 'Bishnupur Temples', 'Buddhish Caves  Junagadh', 'Buddhist Caves', 'Buddhist Caves Kanheri', 'Buddhist Monuments  Sanchi',\n",
       "       'Buddhist Remains on hill top at Guntupalli  W.G.District', 'Buddhist cave no 01 to 51 Dhamnar  Tehsil Garoth', 'Cave  Temple and Inscriptions  Junaar  Lenyadri',\n",
       "       'Cave Temple & Inscriptions  Bhaja', 'Caves  Temples and inscriptions Karla', 'Caves 1 t0 20 Udaygiri Vidisha', 'Champaner Monuments  Pavagadh', 'Chandragiri Monument', 'Charminar',\n",
       "       'Chittaurgarh Fort', 'Cooch Bihar Palace', 'Dariya Daulath Bagh', 'Daulatabad Fort', 'Deeg Bhawan', 'Durga temple complex Aihole', 'Elephanta Caves', 'Ellora Caves',\n",
       "       'Excavated Remains at Nalanda', 'Excavated Remains at sarnath', 'Fatehpur Sikri', 'Fort  Palakkad  Palakkad', 'Fort Museum  Thirumayam', 'Fort St. Angelo  Kannur', 'Fort Vattakottai',\n",
       "       'Fort on Rock  Dindigual', 'Fortress and Temple Chitrudurga Fort', 'Gawilgarh Fort', 'Gingee Fort   Gingee', 'Gol Gumbaz  Vijayapura', 'Golconda', 'Grand Total', 'Group of Monuments  Hampi',\n",
       "       'Group of Monuments (WH) Pattadakal', 'Group of Monuments Mamallapuram', 'Group of Temple Parameshvar shiv and Karan Temple  Amarkantak', 'Group of Temples at kiramchi  District Udhampur',\n",
       "       'Group of four MaidansCharaideo  Sibasagar', 'Group of monument  Royal Palace Mandu', 'Gupta Temple & Varah Temple  Deogarh', 'Gwalior Fort', 'Hauzkhas', 'Hazarduari Palace',\n",
       "       \"Hoshang Shah's Tomb\", 'Humayun Tomb', 'Ibrahim Rauza  Bijapur', 'Itimad-ud-Daulah-Tomb', 'Jaina & Vaishnava Cave  Badami', 'Janjira Fort  Murd', 'Jantar Mantar', 'Kalinjar Fort',\n",
       "       'Kareghar of Ahom Kings  Sibasagar', 'Keshava Temple', 'Khan-I-Khana', 'Kolaba Fort  Alibag', 'Kondiote Caves', 'Kotla Feroz Shah', 'Kumbhalgarh Fort', 'Lohgad Fort', 'Lord Cornwallis Tomb',\n",
       "       'Marble Pavillion and balustrade on the Ana Sagar bund and ruins of the marble Hammam Behind the Ana sagar Bund', 'Mariam tomb Sikandra', 'Mausoleum', 'Mehtab Bagh', 'Metcelf-Hall',\n",
       "       'Moovarkoil  Kodumbalur', 'Nagarjuna Kunda', 'Natural Caven with inscription eladipattam  Sittannavasal', 'Observatory of Man Singh', 'Old Fort  Sholapur', 'Old Fort (Shahi Fort)  Jaunpur',\n",
       "       'Palace Complex at Ramnagar  Distt. Udhampur', 'Palace of Tipu Sultan', 'Pandulena Caves', 'Piprahwa & Ganwaria', 'Purana Qila', 'Qutub Minar', 'Raigad Fort', 'Rajarani Temple', 'Ram Bagh',\n",
       "       'Ranghar Pavillion  Jaisagar', 'Rani Jhansi Fort', 'Rani Ki-Vav  Patan', 'Rani Lakshmi Bai Mahal', 'Red Fort', 'Remains of Patliputra Site of Mauryan Palace  Kumrahar', 'Residency Building',\n",
       "       'Rock-cut Jain Temple  Sittannavasasl', 'Rock-cut Temples and Sculptures', \"Roopmati's Pavilion\", 'Rudabai Step Well  Adalaj', 'Ruined Fort  kangra',\n",
       "       'Ruins of Buddhist Temples and Images lalitgiri', 'Safdarjung Tomb', 'Shaniwarwada', \"Sheikh Chilli's Tomb\", \"Sher Shah's Tomb\", 'Site of Sahet mahet', 'Sultanghari Tomb',\n",
       "       'Sun Temple  Konark', 'Sun temple  Modhera', 'Suraj Kund', 'Taj Mahal', 'Temple of Laxman and Old sites including sculptures sirpur', 'Temples & Sculpture Shed  lakkumdi',\n",
       "       'The Hill Containing Many Valuable Sculptures and Images Ratnagiri', 'The palace situated in the fort  Burhanpur', 'Tiger headed Rock cut temple & two other monuments  Saluvankuppam',\n",
       "       \"Tirumalai Nayak's Palace Srivilliputhur\", 'Tomb of Lal Khan', 'Tomb of Rabia Durani (Bibi ka Maqbara)', 'Total', 'Tughluqabad', 'Undavalli caves', 'Upper Fort Aguada', 'Warangal',\n",
       "       'Western Group of Temples  Khajuraho', 'mattancherry Palace Museum Kochi'], dtype='<U110')"
      ]
     },
     "execution_count": 24,
     "metadata": {},
     "output_type": "execute_result"
    }
   ],
   "source": [
    "# Extrai os valores únicos da variável\n",
    "np.unique(strings[:,1])"
   ]
  },
  {
   "cell_type": "code",
   "execution_count": 25,
   "metadata": {},
   "outputs": [
    {
     "data": {
      "text/plain": [
       "(146,)"
      ]
     },
     "execution_count": 25,
     "metadata": {},
     "output_type": "execute_result"
    }
   ],
   "source": [
    "# Mostra a quantidade de valores unicos \n",
    "monumento_numero = np.unique(strings[:,1])\n",
    "monumento_numero.shape"
   ]
  },
  {
   "cell_type": "code",
   "execution_count": 26,
   "metadata": {},
   "outputs": [
    {
     "data": {
      "text/plain": [
       "(178,)"
      ]
     },
     "execution_count": 26,
     "metadata": {},
     "output_type": "execute_result"
    }
   ],
   "source": [
    "strings[:,1].shape"
   ]
  },
  {
   "cell_type": "code",
   "execution_count": 27,
   "metadata": {},
   "outputs": [
    {
     "data": {
      "text/plain": [
       "(178, 3)"
      ]
     },
     "execution_count": 27,
     "metadata": {},
     "output_type": "execute_result"
    }
   ],
   "source": [
    "strings.shape"
   ]
  },
  {
   "cell_type": "code",
   "execution_count": 28,
   "metadata": {},
   "outputs": [],
   "source": [
    "# Observamos que os monumentos aparecem mais de uma vez, então vamos associar cada monumento a um numero de 0 a 146\n",
    "# Vamos excluir o TOTAL que aparece para cada cidade\n",
    "lista = []\n",
    "for i in range(178):\n",
    "    if strings[:,1][i] == (\"Total\" or \"Grand Total\"):\n",
    "        lista.append(i)\n",
    "        #np.delete(strings[:,1], i, axis=0)\n",
    "    #para_remover = np.where(strings[:,1][i] == \"Total\", i, \" \")\n",
    "\n",
    "    #np.delete(strings[:,1], para_remover, axis=0)\n",
    "#strings[:,1]  \n",
    "\n"
   ]
  },
  {
   "cell_type": "code",
   "execution_count": 29,
   "metadata": {},
   "outputs": [
    {
     "name": "stdout",
     "output_type": "stream",
     "text": [
      "[9, 13, 18, 25, 30, 34, 42, 54, 58, 65, 68, 73, 76, 79, 83, 88, 94, 101, 115, 118, 121, 133, 139, 141, 145, 149, 153, 155, 161, 163, 166, 170, 176]\n"
     ]
    }
   ],
   "source": [
    "print(lista)\n",
    "strings_sem_total = np.delete(strings, lista, axis=0)"
   ]
  },
  {
   "cell_type": "code",
   "execution_count": 30,
   "metadata": {},
   "outputs": [
    {
     "data": {
      "text/plain": [
       "(145, 3)"
      ]
     },
     "execution_count": 30,
     "metadata": {},
     "output_type": "execute_result"
    }
   ],
   "source": [
    "strings_sem_total.shape\n"
   ]
  },
  {
   "cell_type": "code",
   "execution_count": 31,
   "metadata": {},
   "outputs": [
    {
     "data": {
      "text/plain": [
       "array([['0', 'Taj Mahal', 'excellent'],\n",
       "       ['0', 'Agra Fort', 'good'],\n",
       "       ['0', 'Fatehpur Sikri', 'bad'],\n",
       "       ['0', 'Akbar Tomb Sikandra', 'bad'],\n",
       "       ['0', 'Mariam tomb Sikandra', 'bad'],\n",
       "       ['0', 'Itimad-ud-Daulah-Tomb', 'excellent'],\n",
       "       ['0', 'Ram Bagh', 'bad'],\n",
       "       ['0', 'Mehtab Bagh', 'bad'],\n",
       "       ['0', 'Mausoleum', 'bad'],\n",
       "       ['21', 'Site of Sahet mahet', 'bad'],\n",
       "       ['21', 'Residency Building', 'bad'],\n",
       "       ['21', 'Piprahwa & Ganwaria', 'excellent'],\n",
       "       ['17', 'Gupta Temple & Varah Temple  Deogarh', 'bad'],\n",
       "       ['17', 'Kalinjar Fort', 'good'],\n",
       "       ['17', 'Rani Lakshmi Bai Mahal', 'good'],\n",
       "       ['17', 'Rani Jhansi Fort', 'bad'],\n",
       "       ['28', 'Lord Cornwallis Tomb', 'excellent'],\n",
       "       ['28', 'Old Fort (Shahi Fort)  Jaunpur', 'bad'],\n",
       "       ['28', 'Observatory of Man Singh', 'excellent'],\n",
       "       ['28', 'Excavated Remains at sarnath', 'good'],\n",
       "       ['28', 'Tomb of Lal Khan', 'excellent'],\n",
       "       ['28', 'Ancient Buddhist Site known as Chaukhandi stupa', 'excellent'],\n",
       "       ['31', 'Bekal Fort  Pallikkare  Distt. Kasargod', 'excellent'],\n",
       "       ['31', 'mattancherry Palace Museum Kochi', 'bad'],\n",
       "       ['31', 'Fort  Palakkad  Palakkad', 'bad'],\n",
       "       ['31', 'Fort St. Angelo  Kannur', 'good'],\n",
       "       ['7', 'Group of Monuments Mamallapuram', 'bad'],\n",
       "       ['7', 'Gingee Fort   Gingee', 'bad'],\n",
       "       ['7', 'Tiger headed Rock cut temple & two other monuments  Saluvankuppam', 'good'],\n",
       "       ['32', 'Fort on Rock  Dindigual', 'excellent'],\n",
       "       ['32', 'Moovarkoil  Kodumbalur', 'good'],\n",
       "       ['32', 'Rock-cut Jain Temple  Sittannavasasl', 'bad'],\n",
       "       ['32', \"Tirumalai Nayak's Palace Srivilliputhur\", 'bad'],\n",
       "       ['32', 'Natural Caven with inscription eladipattam  Sittannavasal', 'excellent'],\n",
       "       ['32', 'Fort Museum  Thirumayam', 'bad'],\n",
       "       ['32', 'Fort Vattakottai', 'good'],\n",
       "       ['4', 'Buddhist Caves', 'good'],\n",
       "       ['4', 'The palace situated in the fort  Burhanpur', 'excellent'],\n",
       "       ['4', \"Hoshang Shah's Tomb\", 'good'],\n",
       "       ['4', 'Group of monument  Royal Palace Mandu', 'good'],\n",
       "       ['4', \"Roopmati's Pavilion\", 'excellent'],\n",
       "       ['4', 'Buddhist Monuments  Sanchi', 'excellent'],\n",
       "       ['4', 'Gwalior Fort', 'good'],\n",
       "       ['4', 'Buddhist cave no 01 to 51 Dhamnar  Tehsil Garoth', 'bad'],\n",
       "       ['4', 'Badal Mahal Gatwway  Chanderi', 'bad'],\n",
       "       ['4', 'Caves 1 t0 20 Udaygiri Vidisha', 'excellent'],\n",
       "       ['4', 'Bir Singh Palace Datia', 'bad'],\n",
       "       ['15', 'Ancient Site and Adamgrah rock shelter  Kalamdi Rasuliya and kishanpur', 'bad'],\n",
       "       ['15', 'Western Group of Temples  Khajuraho', 'bad'],\n",
       "       ['15', 'Group of Temple Parameshvar shiv and Karan Temple  Amarkantak', 'bad'],\n",
       "       ['9', 'Durga temple complex Aihole', 'bad'],\n",
       "       ['9', 'Jaina & Vaishnava Cave  Badami', 'bad'],\n",
       "       ['9', 'Group of Monuments (WH) Pattadakal', 'good'],\n",
       "       ['9', 'Gol Gumbaz  Vijayapura', 'good'],\n",
       "       ['9', 'Ibrahim Rauza  Bijapur', 'excellent'],\n",
       "       ['9', 'Temples & Sculpture Shed  lakkumdi', 'bad'],\n",
       "       ['13', 'Group of Monuments  Hampi', 'bad'],\n",
       "       ['13', 'Bellary Fort', 'bad'],\n",
       "       ['3', 'Dariya Daulath Bagh', 'excellent'],\n",
       "       ['3', 'Keshava Temple', 'excellent'],\n",
       "       ['3', 'Palace of Tipu Sultan', 'good'],\n",
       "       ['3', 'Fortress and Temple Chitrudurga Fort', 'good'],\n",
       "       ['25', 'Cooch Bihar Palace', 'bad'],\n",
       "       ['25', 'Hazarduari Palace', 'good'],\n",
       "       ['19', 'Bishnupur Temples', 'excellent'],\n",
       "       ['19', 'Metcelf-Hall', 'bad'],\n",
       "       ['27', 'Asokan Rock Edict  Jungadh', 'good'],\n",
       "       ['27', 'Buddhish Caves  Junagadh', 'bad'],\n",
       "       ['27', 'Baba Pyara Caves Junagadh & Khapra Khodiya Caves  Junagadh', 'excellent'],\n",
       "       ['34', 'Champaner Monuments  Pavagadh', 'bad'],\n",
       "       ['34', 'Sun temple  Modhera', 'good'],\n",
       "       ['34', 'Rani Ki-Vav  Patan', 'excellent'],\n",
       "       ['34', 'Rudabai Step Well  Adalaj', 'bad'],\n",
       "       ['5', 'Sun Temple  Konark', 'good'],\n",
       "       ['5', 'Ancient Remains on both Udaigiri & Khandagiri Hills', 'excellent'],\n",
       "       ['5', 'Rajarani Temple', 'excellent'],\n",
       "       ['5', 'The Hill Containing Many Valuable Sculptures and Images Ratnagiri', 'bad'],\n",
       "       ['5', 'Ruins of Buddhist Temples and Images lalitgiri', 'bad'],\n",
       "       ['2', 'Ajanta Caves', 'bad'],\n",
       "       ['2', 'Ellora Caves', 'bad'],\n",
       "       ['2', 'Tomb of Rabia Durani (Bibi ka Maqbara)', 'good'],\n",
       "       ['2', 'Daulatabad Fort', 'bad'],\n",
       "       ['2', 'Pandulena Caves', 'good'],\n",
       "       ['2', 'Aurangabad Caves', 'excellent'],\n",
       "       ['22', 'Elephanta Caves', 'good'],\n",
       "       ['22', 'Buddhist Caves Kanheri', 'bad'],\n",
       "       ['22', 'Shaniwarwada', 'bad'],\n",
       "       ['22', 'Aga  Khan Palace Building', 'excellent'],\n",
       "       ['22', 'Cave  Temple and Inscriptions  Junaar  Lenyadri', 'bad'],\n",
       "       ['22', 'Caves  Temples and inscriptions Karla', 'bad'],\n",
       "       ['22', 'Cave Temple & Inscriptions  Bhaja', 'excellent'],\n",
       "       ['22', 'Raigad Fort', 'excellent'],\n",
       "       ['22', 'Kolaba Fort  Alibag', 'bad'],\n",
       "       ['22', 'Old Fort  Sholapur', 'excellent'],\n",
       "       ['22', 'Janjira Fort  Murd', 'bad'],\n",
       "       ['22', 'Kondiote Caves', 'good'],\n",
       "       ['22', 'Lohgad Fort', 'bad'],\n",
       "       ['23', 'Gawilgarh Fort', 'good'],\n",
       "       ['23', 'Ancient Buddhist Remains comprising monastery stupa  rock sculptures  inscriptions ect Mansur', 'bad'],\n",
       "       ['6', 'Suraj Kund', 'excellent'],\n",
       "       ['6', \"Sheikh Chilli's Tomb\", 'bad'],\n",
       "       ['8', 'Khan-I-Khana', 'good'],\n",
       "       ['8', 'Sultanghari Tomb', 'bad'],\n",
       "       ['8', 'Tughluqabad', 'excellent'],\n",
       "       ['8', 'Red Fort', 'excellent'],\n",
       "       ['8', 'Humayun Tomb', 'excellent'],\n",
       "       ['8', 'Qutub Minar', 'bad'],\n",
       "       ['8', 'Hauzkhas', 'bad'],\n",
       "       ['8', 'Jantar Mantar', 'bad'],\n",
       "       ['8', 'Safdarjung Tomb', 'bad'],\n",
       "       ['8', 'Kotla Feroz Shah', 'good'],\n",
       "       ['8', 'Purana Qila', 'good'],\n",
       "       ['12', \"Ahom Raja's Palace\", 'good'],\n",
       "       ['12', 'Kareghar of Ahom Kings  Sibasagar', 'bad'],\n",
       "       ['12', 'Ranghar Pavillion  Jaisagar', 'bad'],\n",
       "       ['12', 'Bishnudol', 'bad'],\n",
       "       ['12', 'Group of four MaidansCharaideo  Sibasagar', 'excellent'],\n",
       "       ['10', 'Upper Fort Aguada', 'good'],\n",
       "       ['14', 'Charminar', 'bad'],\n",
       "       ['14', 'Golconda', 'excellent'],\n",
       "       ['14', 'Warangal', 'good'],\n",
       "       ['16', 'Ancient Site Bhangarh', 'excellent'],\n",
       "       ['16', 'Baori at Abhaneri', 'bad'],\n",
       "       ['16', 'Deeg Bhawan', 'bad'],\n",
       "       ['18', 'Chittaurgarh Fort', 'good'],\n",
       "       ['18', 'Kumbhalgarh Fort', 'bad'],\n",
       "       ['18', 'Marble Pavillion and balustrade on the Ana Sagar bund and ruins of the marble Hammam Behind the Ana sagar Bund', 'good'],\n",
       "       ['20', 'Ancient Palace Leh', 'bad'],\n",
       "       ['24', 'Remains of Patliputra Site of Mauryan Palace  Kumrahar', 'excellent'],\n",
       "       ['24', 'Ancient site of Vaishali  Kolhua', 'bad'],\n",
       "       ['24', 'Excavated Remains at Nalanda', 'bad'],\n",
       "       ['24', 'Ancient Site of Vikramshila Antichak', 'good'],\n",
       "       ['24', \"Sher Shah's Tomb\", 'bad'],\n",
       "       ['26', 'Temple of Laxman and Old sites including sculptures sirpur', 'good'],\n",
       "       ['29', 'Ruined Fort  kangra', 'good'],\n",
       "       ['29', 'Rock-cut Temples and Sculptures', 'good'],\n",
       "       ['30', 'Palace Complex at Ramnagar  Distt. Udhampur', 'excellent'],\n",
       "       ['30', 'Avantiswamin Temple  Avantipur  District Pulwama', 'excellent'],\n",
       "       ['30', 'Group of Temples at kiramchi  District Udhampur', 'good'],\n",
       "       ['1', 'Amaravati mahastupa', 'bad'],\n",
       "       ['1', 'Undavalli caves', 'good'],\n",
       "       ['1', 'Nagarjuna Kunda', 'good'],\n",
       "       ['1', 'Chandragiri Monument', 'good'],\n",
       "       ['1', 'Buddhist Remains on hill top at Guntupalli  W.G.District', 'excellent']], dtype='<U110')"
      ]
     },
     "execution_count": 31,
     "metadata": {},
     "output_type": "execute_result"
    }
   ],
   "source": [
    "strings_sem_total = np.delete(strings_sem_total, 144, axis=0)\n",
    "strings_sem_total"
   ]
  },
  {
   "cell_type": "code",
   "execution_count": 32,
   "metadata": {},
   "outputs": [
    {
     "data": {
      "text/plain": [
       "array(['Aga  Khan Palace Building', 'Agra Fort', \"Ahom Raja's Palace\", 'Ajanta Caves', 'Akbar Tomb Sikandra', 'Amaravati mahastupa',\n",
       "       'Ancient Buddhist Remains comprising monastery stupa  rock sculptures  inscriptions ect Mansur', 'Ancient Buddhist Site known as Chaukhandi stupa', 'Ancient Palace Leh',\n",
       "       'Ancient Remains on both Udaigiri & Khandagiri Hills', 'Ancient Site Bhangarh', 'Ancient Site and Adamgrah rock shelter  Kalamdi Rasuliya and kishanpur',\n",
       "       'Ancient Site of Vikramshila Antichak', 'Ancient site of Vaishali  Kolhua', 'Asokan Rock Edict  Jungadh', 'Aurangabad Caves', 'Avantiswamin Temple  Avantipur  District Pulwama',\n",
       "       'Baba Pyara Caves Junagadh & Khapra Khodiya Caves  Junagadh', 'Badal Mahal Gatwway  Chanderi', 'Baori at Abhaneri', 'Bekal Fort  Pallikkare  Distt. Kasargod', 'Bellary Fort',\n",
       "       'Bir Singh Palace Datia', 'Bishnudol', 'Bishnupur Temples', 'Buddhish Caves  Junagadh', 'Buddhist Caves', 'Buddhist Caves Kanheri', 'Buddhist Monuments  Sanchi',\n",
       "       'Buddhist Remains on hill top at Guntupalli  W.G.District', 'Buddhist cave no 01 to 51 Dhamnar  Tehsil Garoth', 'Cave  Temple and Inscriptions  Junaar  Lenyadri',\n",
       "       'Cave Temple & Inscriptions  Bhaja', 'Caves  Temples and inscriptions Karla', 'Caves 1 t0 20 Udaygiri Vidisha', 'Champaner Monuments  Pavagadh', 'Chandragiri Monument', 'Charminar',\n",
       "       'Chittaurgarh Fort', 'Cooch Bihar Palace', 'Dariya Daulath Bagh', 'Daulatabad Fort', 'Deeg Bhawan', 'Durga temple complex Aihole', 'Elephanta Caves', 'Ellora Caves',\n",
       "       'Excavated Remains at Nalanda', 'Excavated Remains at sarnath', 'Fatehpur Sikri', 'Fort  Palakkad  Palakkad', 'Fort Museum  Thirumayam', 'Fort St. Angelo  Kannur', 'Fort Vattakottai',\n",
       "       'Fort on Rock  Dindigual', 'Fortress and Temple Chitrudurga Fort', 'Gawilgarh Fort', 'Gingee Fort   Gingee', 'Gol Gumbaz  Vijayapura', 'Golconda', 'Grand Total', 'Group of Monuments  Hampi',\n",
       "       'Group of Monuments (WH) Pattadakal', 'Group of Monuments Mamallapuram', 'Group of Temple Parameshvar shiv and Karan Temple  Amarkantak', 'Group of Temples at kiramchi  District Udhampur',\n",
       "       'Group of four MaidansCharaideo  Sibasagar', 'Group of monument  Royal Palace Mandu', 'Gupta Temple & Varah Temple  Deogarh', 'Gwalior Fort', 'Hauzkhas', 'Hazarduari Palace',\n",
       "       \"Hoshang Shah's Tomb\", 'Humayun Tomb', 'Ibrahim Rauza  Bijapur', 'Itimad-ud-Daulah-Tomb', 'Jaina & Vaishnava Cave  Badami', 'Janjira Fort  Murd', 'Jantar Mantar', 'Kalinjar Fort',\n",
       "       'Kareghar of Ahom Kings  Sibasagar', 'Keshava Temple', 'Khan-I-Khana', 'Kolaba Fort  Alibag', 'Kondiote Caves', 'Kotla Feroz Shah', 'Kumbhalgarh Fort', 'Lohgad Fort', 'Lord Cornwallis Tomb',\n",
       "       'Marble Pavillion and balustrade on the Ana Sagar bund and ruins of the marble Hammam Behind the Ana sagar Bund', 'Mariam tomb Sikandra', 'Mausoleum', 'Mehtab Bagh', 'Metcelf-Hall',\n",
       "       'Moovarkoil  Kodumbalur', 'Nagarjuna Kunda', 'Natural Caven with inscription eladipattam  Sittannavasal', 'Observatory of Man Singh', 'Old Fort  Sholapur', 'Old Fort (Shahi Fort)  Jaunpur',\n",
       "       'Palace Complex at Ramnagar  Distt. Udhampur', 'Palace of Tipu Sultan', 'Pandulena Caves', 'Piprahwa & Ganwaria', 'Purana Qila', 'Qutub Minar', 'Raigad Fort', 'Rajarani Temple', 'Ram Bagh',\n",
       "       'Ranghar Pavillion  Jaisagar', 'Rani Jhansi Fort', 'Rani Ki-Vav  Patan', 'Rani Lakshmi Bai Mahal', 'Red Fort', 'Remains of Patliputra Site of Mauryan Palace  Kumrahar', 'Residency Building',\n",
       "       'Rock-cut Jain Temple  Sittannavasasl', 'Rock-cut Temples and Sculptures', \"Roopmati's Pavilion\", 'Rudabai Step Well  Adalaj', 'Ruined Fort  kangra',\n",
       "       'Ruins of Buddhist Temples and Images lalitgiri', 'Safdarjung Tomb', 'Shaniwarwada', \"Sheikh Chilli's Tomb\", \"Sher Shah's Tomb\", 'Site of Sahet mahet', 'Sultanghari Tomb',\n",
       "       'Sun Temple  Konark', 'Sun temple  Modhera', 'Suraj Kund', 'Taj Mahal', 'Temple of Laxman and Old sites including sculptures sirpur', 'Temples & Sculpture Shed  lakkumdi',\n",
       "       'The Hill Containing Many Valuable Sculptures and Images Ratnagiri', 'The palace situated in the fort  Burhanpur', 'Tiger headed Rock cut temple & two other monuments  Saluvankuppam',\n",
       "       \"Tirumalai Nayak's Palace Srivilliputhur\", 'Tomb of Lal Khan', 'Tomb of Rabia Durani (Bibi ka Maqbara)', 'Total', 'Tughluqabad', 'Undavalli caves', 'Upper Fort Aguada', 'Warangal',\n",
       "       'Western Group of Temples  Khajuraho', 'mattancherry Palace Museum Kochi'], dtype='<U110')"
      ]
     },
     "execution_count": 32,
     "metadata": {},
     "output_type": "execute_result"
    }
   ],
   "source": [
    "# Extrai os valores únicos da variável\n",
    "np.unique(strings[:,1])"
   ]
  },
  {
   "cell_type": "code",
   "execution_count": 33,
   "metadata": {},
   "outputs": [],
   "source": [
    "monumento  = np.array(['Aga  Khan Palace Building', 'Agra Fort', \"Ahom Raja's Palace\", 'Ajanta Caves', 'Akbar Tomb Sikandra', 'Amaravati mahastupa',\n",
    "       'Ancient Buddhist Remains comprising monastery stupa  rock sculptures  inscriptions ect Mansur', 'Ancient Buddhist Site known as Chaukhandi stupa', 'Ancient Palace Leh',\n",
    "       'Ancient Remains on both Udaigiri & Khandagiri Hills', 'Ancient Site Bhangarh', 'Ancient Site and Adamgrah rock shelter  Kalamdi Rasuliya and kishanpur',\n",
    "       'Ancient Site of Vikramshila Antichak', 'Ancient site of Vaishali  Kolhua', 'Asokan Rock Edict  Jungadh', 'Aurangabad Caves', 'Avantiswamin Temple  Avantipur  District Pulwama',\n",
    "       'Baba Pyara Caves Junagadh & Khapra Khodiya Caves  Junagadh', 'Badal Mahal Gatwway  Chanderi', 'Baori at Abhaneri', 'Bekal Fort  Pallikkare  Distt. Kasargod', 'Bellary Fort',\n",
    "       'Bir Singh Palace Datia', 'Bishnudol', 'Bishnupur Temples', 'Buddhish Caves  Junagadh', 'Buddhist Caves', 'Buddhist Caves Kanheri', 'Buddhist Monuments  Sanchi',\n",
    "       'Buddhist Remains on hill top at Guntupalli  W.G.District', 'Buddhist cave no 01 to 51 Dhamnar  Tehsil Garoth', 'Cave  Temple and Inscriptions  Junaar  Lenyadri',\n",
    "       'Cave Temple & Inscriptions  Bhaja', 'Caves  Temples and inscriptions Karla', 'Caves 1 t0 20 Udaygiri Vidisha', 'Champaner Monuments  Pavagadh', 'Chandragiri Monument', 'Charminar',\n",
    "       'Chittaurgarh Fort', 'Cooch Bihar Palace', 'Dariya Daulath Bagh', 'Daulatabad Fort', 'Deeg Bhawan', 'Durga temple complex Aihole', 'Elephanta Caves', 'Ellora Caves',\n",
    "       'Excavated Remains at Nalanda', 'Excavated Remains at sarnath', 'Fatehpur Sikri', 'Fort  Palakkad  Palakkad', 'Fort Museum  Thirumayam', 'Fort St. Angelo  Kannur', 'Fort Vattakottai',\n",
    "       'Fort on Rock  Dindigual', 'Fortress and Temple Chitrudurga Fort', 'Gawilgarh Fort', 'Gingee Fort   Gingee', 'Gol Gumbaz  Vijayapura', 'Golconda', 'Grand Total', 'Group of Monuments  Hampi',\n",
    "       'Group of Monuments (WH) Pattadakal', 'Group of Monuments Mamallapuram', 'Group of Temple Parameshvar shiv and Karan Temple  Amarkantak', 'Group of Temples at kiramchi  District Udhampur',\n",
    "       'Group of four MaidansCharaideo  Sibasagar', 'Group of monument  Royal Palace Mandu', 'Gupta Temple & Varah Temple  Deogarh', 'Gwalior Fort', 'Hauzkhas', 'Hazarduari Palace',\n",
    "       \"Hoshang Shah's Tomb\", 'Humayun Tomb', 'Ibrahim Rauza  Bijapur', 'Itimad-ud-Daulah-Tomb', 'Jaina & Vaishnava Cave  Badami', 'Janjira Fort  Murd', 'Jantar Mantar', 'Kalinjar Fort',\n",
    "       'Kareghar of Ahom Kings  Sibasagar', 'Keshava Temple', 'Khan-I-Khana', 'Kolaba Fort  Alibag', 'Kondiote Caves', 'Kotla Feroz Shah', 'Kumbhalgarh Fort', 'Lohgad Fort', 'Lord Cornwallis Tomb',\n",
    "       'Marble Pavillion and balustrade on the Ana Sagar bund and ruins of the marble Hammam Behind the Ana sagar Bund', 'Mariam tomb Sikandra', 'Mausoleum', 'Mehtab Bagh', 'Metcelf-Hall',\n",
    "       'Moovarkoil  Kodumbalur', 'Nagarjuna Kunda', 'Natural Caven with inscription eladipattam  Sittannavasal', 'Observatory of Man Singh', 'Old Fort  Sholapur', 'Old Fort (Shahi Fort)  Jaunpur',\n",
    "       'Palace Complex at Ramnagar  Distt. Udhampur', 'Palace of Tipu Sultan', 'Pandulena Caves', 'Piprahwa & Ganwaria', 'Purana Qila', 'Qutub Minar', 'Raigad Fort', 'Rajarani Temple', 'Ram Bagh',\n",
    "       'Ranghar Pavillion  Jaisagar', 'Rani Jhansi Fort', 'Rani Ki-Vav  Patan', 'Rani Lakshmi Bai Mahal', 'Red Fort', 'Remains of Patliputra Site of Mauryan Palace  Kumrahar', 'Residency Building',\n",
    "       'Rock-cut Jain Temple  Sittannavasasl', 'Rock-cut Temples and Sculptures', \"Roopmati's Pavilion\", 'Rudabai Step Well  Adalaj', 'Ruined Fort  kangra',\n",
    "       'Ruins of Buddhist Temples and Images lalitgiri', 'Safdarjung Tomb', 'Shaniwarwada', \"Sheikh Chilli's Tomb\", \"Sher Shah's Tomb\", 'Site of Sahet mahet', 'Sultanghari Tomb',\n",
    "       'Sun Temple  Konark', 'Sun temple  Modhera', 'Suraj Kund', 'Taj Mahal', 'Temple of Laxman and Old sites including sculptures sirpur', 'Temples & Sculpture Shed  lakkumdi',\n",
    "       'The Hill Containing Many Valuable Sculptures and Images Ratnagiri', 'The palace situated in the fort  Burhanpur', 'Tiger headed Rock cut temple & two other monuments  Saluvankuppam',\n",
    "       \"Tirumalai Nayak's Palace Srivilliputhur\", 'Tomb of Lal Khan', 'Tomb of Rabia Durani (Bibi ka Maqbara)', 'Total', 'Tughluqabad', 'Undavalli caves', 'Upper Fort Aguada', 'Warangal',\n",
    "       'Western Group of Temples  Khajuraho', 'mattancherry Palace Museum Kochi'])"
   ]
  },
  {
   "cell_type": "code",
   "execution_count": 34,
   "metadata": {
    "scrolled": true
   },
   "outputs": [
    {
     "data": {
      "text/plain": [
       "array(['Aga  Khan Palace Building', 'Agra Fort', \"Ahom Raja's Palace\", 'Ajanta Caves', 'Akbar Tomb Sikandra', 'Amaravati mahastupa',\n",
       "       'Ancient Buddhist Remains comprising monastery stupa  rock sculptures  inscriptions ect Mansur', 'Ancient Buddhist Site known as Chaukhandi stupa', 'Ancient Palace Leh',\n",
       "       'Ancient Remains on both Udaigiri & Khandagiri Hills', 'Ancient Site Bhangarh', 'Ancient Site and Adamgrah rock shelter  Kalamdi Rasuliya and kishanpur',\n",
       "       'Ancient Site of Vikramshila Antichak', 'Ancient site of Vaishali  Kolhua', 'Asokan Rock Edict  Jungadh', 'Aurangabad Caves', 'Avantiswamin Temple  Avantipur  District Pulwama',\n",
       "       'Baba Pyara Caves Junagadh & Khapra Khodiya Caves  Junagadh', 'Badal Mahal Gatwway  Chanderi', 'Baori at Abhaneri', 'Bekal Fort  Pallikkare  Distt. Kasargod', 'Bellary Fort',\n",
       "       'Bir Singh Palace Datia', 'Bishnudol', 'Bishnupur Temples', 'Buddhish Caves  Junagadh', 'Buddhist Caves', 'Buddhist Caves Kanheri', 'Buddhist Monuments  Sanchi',\n",
       "       'Buddhist Remains on hill top at Guntupalli  W.G.District', 'Buddhist cave no 01 to 51 Dhamnar  Tehsil Garoth', 'Cave  Temple and Inscriptions  Junaar  Lenyadri',\n",
       "       'Cave Temple & Inscriptions  Bhaja', 'Caves  Temples and inscriptions Karla', 'Caves 1 t0 20 Udaygiri Vidisha', 'Champaner Monuments  Pavagadh', 'Chandragiri Monument', 'Charminar',\n",
       "       'Chittaurgarh Fort', 'Cooch Bihar Palace', 'Dariya Daulath Bagh', 'Daulatabad Fort', 'Deeg Bhawan', 'Durga temple complex Aihole', 'Elephanta Caves', 'Ellora Caves',\n",
       "       'Excavated Remains at Nalanda', 'Excavated Remains at sarnath', 'Fatehpur Sikri', 'Fort  Palakkad  Palakkad', 'Fort Museum  Thirumayam', 'Fort St. Angelo  Kannur', 'Fort Vattakottai',\n",
       "       'Fort on Rock  Dindigual', 'Fortress and Temple Chitrudurga Fort', 'Gawilgarh Fort', 'Gingee Fort   Gingee', 'Gol Gumbaz  Vijayapura', 'Golconda', 'Grand Total', 'Group of Monuments  Hampi',\n",
       "       'Group of Monuments (WH) Pattadakal', 'Group of Monuments Mamallapuram', 'Group of Temple Parameshvar shiv and Karan Temple  Amarkantak', 'Group of Temples at kiramchi  District Udhampur',\n",
       "       'Group of four MaidansCharaideo  Sibasagar', 'Group of monument  Royal Palace Mandu', 'Gupta Temple & Varah Temple  Deogarh', 'Gwalior Fort', 'Hauzkhas', 'Hazarduari Palace',\n",
       "       \"Hoshang Shah's Tomb\", 'Humayun Tomb', 'Ibrahim Rauza  Bijapur', 'Itimad-ud-Daulah-Tomb', 'Jaina & Vaishnava Cave  Badami', 'Janjira Fort  Murd', 'Jantar Mantar', 'Kalinjar Fort',\n",
       "       'Kareghar of Ahom Kings  Sibasagar', 'Keshava Temple', 'Khan-I-Khana', 'Kolaba Fort  Alibag', 'Kondiote Caves', 'Kotla Feroz Shah', 'Kumbhalgarh Fort', 'Lohgad Fort', 'Lord Cornwallis Tomb',\n",
       "       'Marble Pavillion and balustrade on the Ana Sagar bund and ruins of the marble Hammam Behind the Ana sagar Bund', 'Mariam tomb Sikandra', 'Mausoleum', 'Mehtab Bagh', 'Metcelf-Hall',\n",
       "       'Moovarkoil  Kodumbalur', 'Nagarjuna Kunda', 'Natural Caven with inscription eladipattam  Sittannavasal', 'Observatory of Man Singh', 'Old Fort  Sholapur', 'Old Fort (Shahi Fort)  Jaunpur',\n",
       "       'Palace Complex at Ramnagar  Distt. Udhampur', 'Palace of Tipu Sultan', 'Pandulena Caves', 'Piprahwa & Ganwaria', 'Purana Qila', 'Qutub Minar', 'Raigad Fort', 'Rajarani Temple', 'Ram Bagh',\n",
       "       'Ranghar Pavillion  Jaisagar', 'Rani Jhansi Fort', 'Rani Ki-Vav  Patan', 'Rani Lakshmi Bai Mahal', 'Red Fort', 'Remains of Patliputra Site of Mauryan Palace  Kumrahar', 'Residency Building',\n",
       "       'Rock-cut Jain Temple  Sittannavasasl', 'Rock-cut Temples and Sculptures', \"Roopmati's Pavilion\", 'Rudabai Step Well  Adalaj', 'Ruined Fort  kangra',\n",
       "       'Ruins of Buddhist Temples and Images lalitgiri', 'Safdarjung Tomb', 'Shaniwarwada', \"Sheikh Chilli's Tomb\", \"Sher Shah's Tomb\", 'Site of Sahet mahet', 'Sultanghari Tomb',\n",
       "       'Sun Temple  Konark', 'Sun temple  Modhera', 'Suraj Kund', 'Taj Mahal', 'Temple of Laxman and Old sites including sculptures sirpur', 'Temples & Sculpture Shed  lakkumdi',\n",
       "       'The Hill Containing Many Valuable Sculptures and Images Ratnagiri', 'The palace situated in the fort  Burhanpur', 'Tiger headed Rock cut temple & two other monuments  Saluvankuppam',\n",
       "       \"Tirumalai Nayak's Palace Srivilliputhur\", 'Tomb of Lal Khan', 'Tomb of Rabia Durani (Bibi ka Maqbara)', 'Total', 'Tughluqabad', 'Undavalli caves', 'Upper Fort Aguada', 'Warangal',\n",
       "       'Western Group of Temples  Khajuraho', 'mattancherry Palace Museum Kochi'], dtype='<U110')"
      ]
     },
     "execution_count": 34,
     "metadata": {},
     "output_type": "execute_result"
    }
   ],
   "source": [
    "monumento"
   ]
  },
  {
   "cell_type": "code",
   "execution_count": 35,
   "metadata": {},
   "outputs": [
    {
     "data": {
      "text/plain": [
       "(146,)"
      ]
     },
     "execution_count": 35,
     "metadata": {},
     "output_type": "execute_result"
    }
   ],
   "source": [
    "monumento.shape"
   ]
  },
  {
   "cell_type": "code",
   "execution_count": 36,
   "metadata": {},
   "outputs": [
    {
     "data": {
      "text/plain": [
       "array(['130', '1', '48', '4', '89', '74', '107', '91', '90', '139', '125', '114', '102', '139', '67', '78', '111', '109', '139', '87', '98', '96', '47', '137', '7', '139', '20', '145', '49', '51',\n",
       "       '139', '62', '56', '135', '139', '53', '93', '115', '136', '95', '50', '52', '139', '26', '134', '71', '66', '117', '28', '68', '30', '18', '34', '22', '139', '11', '144', '63', '139', '43',\n",
       "       '75', '61', '57', '73', '132', '139', '60', '21', '139', '40', '80', '100', '54', '139', '39', '70', '139', '24', '92', '139', '14', '25', '17', '139', '35', '128', '110', '118', '139', '127',\n",
       "       '9', '106', '133', '120', '139', '3', '45', '138', '41', '101', '15', '139', '44', '27', '122', '0', '31', '33', '32', '105', '82', '97', '76', '83', '86', '139', '55', '6', '139', '129',\n",
       "       '123', '139', '81', '126', '140', '112', '72', '104', '69', '77', '121', '84', '103', '139', '2', '79', '108', '23', '65', '139', '142', '139', '37', '58', '143', '139', '10', '19', '42',\n",
       "       '139', '38', '85', '88', '139', '8', '139', '113', '13', '46', '12', '124', '139', '131', '139', '119', '116', '139', '99', '16', '64', '139', '5', '141', '94', '36', '29', '139', '59'],\n",
       "      dtype='<U110')"
      ]
     },
     "execution_count": 36,
     "metadata": {},
     "output_type": "execute_result"
    }
   ],
   "source": [
    "# Loop para converter os nomes dos monumentos em valores numéricos\n",
    "# Chamamos isso de label encoding\n",
    "for i in range(146):\n",
    "    strings[:,1] = np.where(strings[:,1] == monumento[i], i, strings[:,1])\n",
    "strings[:,1]  "
   ]
  },
  {
   "cell_type": "code",
   "execution_count": 37,
   "metadata": {},
   "outputs": [
    {
     "data": {
      "text/plain": [
       "array([['0', '130', 'excellent'],\n",
       "       ['0', '1', 'good'],\n",
       "       ['0', '48', 'bad'],\n",
       "       ['0', '4', 'bad'],\n",
       "       ['0', '89', 'bad'],\n",
       "       ['0', '74', 'excellent'],\n",
       "       ['0', '107', 'bad'],\n",
       "       ['0', '91', 'bad'],\n",
       "       ['0', '90', 'bad'],\n",
       "       ['33', '139', 'excellent'],\n",
       "       ['21', '125', 'bad'],\n",
       "       ['21', '114', 'bad'],\n",
       "       ['21', '102', 'excellent'],\n",
       "       ['33', '139', 'bad'],\n",
       "       ['17', '67', 'bad'],\n",
       "       ['17', '78', 'good'],\n",
       "       ['17', '111', 'good'],\n",
       "       ['17', '109', 'bad'],\n",
       "       ['33', '139', 'excellent'],\n",
       "       ['28', '87', 'excellent'],\n",
       "       ['28', '98', 'bad'],\n",
       "       ['28', '96', 'excellent'],\n",
       "       ['28', '47', 'good'],\n",
       "       ['28', '137', 'excellent'],\n",
       "       ['28', '7', 'excellent'],\n",
       "       ['33', '139', 'excellent'],\n",
       "       ['31', '20', 'excellent'],\n",
       "       ['31', '145', 'bad'],\n",
       "       ['31', '49', 'bad'],\n",
       "       ['31', '51', 'good'],\n",
       "       ['33', '139', 'excellent'],\n",
       "       ['7', '62', 'bad'],\n",
       "       ['7', '56', 'bad'],\n",
       "       ['7', '135', 'good'],\n",
       "       ['33', '139', 'excellent'],\n",
       "       ['32', '53', 'excellent'],\n",
       "       ['32', '93', 'good'],\n",
       "       ['32', '115', 'bad'],\n",
       "       ['32', '136', 'bad'],\n",
       "       ['32', '95', 'excellent'],\n",
       "       ['32', '50', 'bad'],\n",
       "       ['32', '52', 'good'],\n",
       "       ['33', '139', 'good'],\n",
       "       ['4', '26', 'good'],\n",
       "       ['4', '134', 'excellent'],\n",
       "       ['4', '71', 'good'],\n",
       "       ['4', '66', 'good'],\n",
       "       ['4', '117', 'excellent'],\n",
       "       ['4', '28', 'excellent'],\n",
       "       ['4', '68', 'good'],\n",
       "       ['4', '30', 'bad'],\n",
       "       ['4', '18', 'bad'],\n",
       "       ['4', '34', 'excellent'],\n",
       "       ['4', '22', 'bad'],\n",
       "       ['33', '139', 'excellent'],\n",
       "       ['15', '11', 'bad'],\n",
       "       ['15', '144', 'bad'],\n",
       "       ['15', '63', 'bad'],\n",
       "       ['33', '139', 'good'],\n",
       "       ['9', '43', 'bad'],\n",
       "       ['9', '75', 'bad'],\n",
       "       ['9', '61', 'good'],\n",
       "       ['9', '57', 'good'],\n",
       "       ['9', '73', 'excellent'],\n",
       "       ['9', '132', 'bad'],\n",
       "       ['33', '139', 'excellent'],\n",
       "       ['13', '60', 'bad'],\n",
       "       ['13', '21', 'bad'],\n",
       "       ['33', '139', 'excellent'],\n",
       "       ['3', '40', 'excellent'],\n",
       "       ['3', '80', 'excellent'],\n",
       "       ['3', '100', 'good'],\n",
       "       ['3', '54', 'good'],\n",
       "       ['33', '139', 'excellent'],\n",
       "       ['25', '39', 'bad'],\n",
       "       ['25', '70', 'good'],\n",
       "       ['33', '139', 'good'],\n",
       "       ['19', '24', 'excellent'],\n",
       "       ['19', '92', 'bad'],\n",
       "       ['33', '139', 'excellent'],\n",
       "       ['27', '14', 'good'],\n",
       "       ['27', '25', 'bad'],\n",
       "       ['27', '17', 'excellent'],\n",
       "       ['33', '139', 'good'],\n",
       "       ['34', '35', 'bad'],\n",
       "       ['34', '128', 'good'],\n",
       "       ['34', '110', 'excellent'],\n",
       "       ['34', '118', 'bad'],\n",
       "       ['33', '139', 'excellent'],\n",
       "       ['5', '127', 'good'],\n",
       "       ['5', '9', 'excellent'],\n",
       "       ['5', '106', 'excellent'],\n",
       "       ['5', '133', 'bad'],\n",
       "       ['5', '120', 'bad'],\n",
       "       ['33', '139', 'bad'],\n",
       "       ['2', '3', 'bad'],\n",
       "       ['2', '45', 'bad'],\n",
       "       ['2', '138', 'good'],\n",
       "       ['2', '41', 'bad'],\n",
       "       ['2', '101', 'good'],\n",
       "       ['2', '15', 'excellent'],\n",
       "       ['33', '139', 'good'],\n",
       "       ['22', '44', 'good'],\n",
       "       ['22', '27', 'bad'],\n",
       "       ['22', '122', 'bad'],\n",
       "       ['22', '0', 'excellent'],\n",
       "       ['22', '31', 'bad'],\n",
       "       ['22', '33', 'bad'],\n",
       "       ['22', '32', 'excellent'],\n",
       "       ['22', '105', 'excellent'],\n",
       "       ['22', '82', 'bad'],\n",
       "       ['22', '97', 'excellent'],\n",
       "       ['22', '76', 'bad'],\n",
       "       ['22', '83', 'good'],\n",
       "       ['22', '86', 'bad'],\n",
       "       ['33', '139', 'bad'],\n",
       "       ['23', '55', 'good'],\n",
       "       ['23', '6', 'bad'],\n",
       "       ['33', '139', 'excellent'],\n",
       "       ['6', '129', 'excellent'],\n",
       "       ['6', '123', 'bad'],\n",
       "       ['33', '139', 'good'],\n",
       "       ['8', '81', 'good'],\n",
       "       ['8', '126', 'bad'],\n",
       "       ['8', '140', 'excellent'],\n",
       "       ['8', '112', 'excellent'],\n",
       "       ['8', '72', 'excellent'],\n",
       "       ['8', '104', 'bad'],\n",
       "       ['8', '69', 'bad'],\n",
       "       ['8', '77', 'bad'],\n",
       "       ['8', '121', 'bad'],\n",
       "       ['8', '84', 'good'],\n",
       "       ['8', '103', 'good'],\n",
       "       ['33', '139', 'good'],\n",
       "       ['12', '2', 'good'],\n",
       "       ['12', '79', 'bad'],\n",
       "       ['12', '108', 'bad'],\n",
       "       ['12', '23', 'bad'],\n",
       "       ['12', '65', 'excellent'],\n",
       "       ['33', '139', 'good'],\n",
       "       ['10', '142', 'good'],\n",
       "       ['33', '139', 'bad'],\n",
       "       ['14', '37', 'bad'],\n",
       "       ['14', '58', 'excellent'],\n",
       "       ['14', '143', 'good'],\n",
       "       ['33', '139', 'excellent'],\n",
       "       ['16', '10', 'excellent'],\n",
       "       ['16', '19', 'bad'],\n",
       "       ['16', '42', 'bad'],\n",
       "       ['33', '139', 'good'],\n",
       "       ['18', '38', 'good'],\n",
       "       ['18', '85', 'bad'],\n",
       "       ['18', '88', 'good'],\n",
       "       ['33', '139', 'good'],\n",
       "       ['20', '8', 'bad'],\n",
       "       ['33', '139', 'good'],\n",
       "       ['24', '113', 'excellent'],\n",
       "       ['24', '13', 'bad'],\n",
       "       ['24', '46', 'bad'],\n",
       "       ['24', '12', 'good'],\n",
       "       ['24', '124', 'bad'],\n",
       "       ['33', '139', 'bad'],\n",
       "       ['26', '131', 'good'],\n",
       "       ['33', '139', 'bad'],\n",
       "       ['29', '119', 'good'],\n",
       "       ['29', '116', 'good'],\n",
       "       ['33', '139', 'excellent'],\n",
       "       ['30', '99', 'excellent'],\n",
       "       ['30', '16', 'excellent'],\n",
       "       ['30', '64', 'good'],\n",
       "       ['33', '139', 'bad'],\n",
       "       ['1', '5', 'bad'],\n",
       "       ['1', '141', 'good'],\n",
       "       ['1', '94', 'good'],\n",
       "       ['1', '36', 'good'],\n",
       "       ['1', '29', 'excellent'],\n",
       "       ['33', '139', 'bad'],\n",
       "       ['11', '59', 'bad']], dtype='<U110')"
      ]
     },
     "execution_count": 37,
     "metadata": {},
     "output_type": "execute_result"
    }
   ],
   "source": [
    "strings"
   ]
  },
  {
   "cell_type": "markdown",
   "metadata": {},
   "source": [
    "### Pré-Processamento da Variável Avaliação com Binarização"
   ]
  },
  {
   "cell_type": "code",
   "execution_count": 38,
   "metadata": {},
   "outputs": [
    {
     "data": {
      "text/plain": [
       "array(['excellent', 'good', 'bad', 'bad', 'bad', 'excellent', 'bad', 'bad', 'bad', 'excellent', 'bad', 'bad', 'excellent', 'bad', 'bad', 'good', 'good', 'bad', 'excellent', 'excellent', 'bad',\n",
       "       'excellent', 'good', 'excellent', 'excellent', 'excellent', 'excellent', 'bad', 'bad', 'good', 'excellent', 'bad', 'bad', 'good', 'excellent', 'excellent', 'good', 'bad', 'bad', 'excellent',\n",
       "       'bad', 'good', 'good', 'good', 'excellent', 'good', 'good', 'excellent', 'excellent', 'good', 'bad', 'bad', 'excellent', 'bad', 'excellent', 'bad', 'bad', 'bad', 'good', 'bad', 'bad', 'good',\n",
       "       'good', 'excellent', 'bad', 'excellent', 'bad', 'bad', 'excellent', 'excellent', 'excellent', 'good', 'good', 'excellent', 'bad', 'good', 'good', 'excellent', 'bad', 'excellent', 'good',\n",
       "       'bad', 'excellent', 'good', 'bad', 'good', 'excellent', 'bad', 'excellent', 'good', 'excellent', 'excellent', 'bad', 'bad', 'bad', 'bad', 'bad', 'good', 'bad', 'good', 'excellent', 'good',\n",
       "       'good', 'bad', 'bad', 'excellent', 'bad', 'bad', 'excellent', 'excellent', 'bad', 'excellent', 'bad', 'good', 'bad', 'bad', 'good', 'bad', 'excellent', 'excellent', 'bad', 'good', 'good',\n",
       "       'bad', 'excellent', 'excellent', 'excellent', 'bad', 'bad', 'bad', 'bad', 'good', 'good', 'good', 'good', 'bad', 'bad', 'bad', 'excellent', 'good', 'good', 'bad', 'bad', 'excellent', 'good',\n",
       "       'excellent', 'excellent', 'bad', 'bad', 'good', 'good', 'bad', 'good', 'good', 'bad', 'good', 'excellent', 'bad', 'bad', 'good', 'bad', 'bad', 'good', 'bad', 'good', 'good', 'excellent',\n",
       "       'excellent', 'excellent', 'good', 'bad', 'bad', 'good', 'good', 'good', 'excellent', 'bad', 'bad'], dtype='<U110')"
      ]
     },
     "execution_count": 38,
     "metadata": {},
     "output_type": "execute_result"
    }
   ],
   "source": [
    "strings[:,2]  "
   ]
  },
  {
   "cell_type": "code",
   "execution_count": 39,
   "metadata": {},
   "outputs": [
    {
     "data": {
      "text/plain": [
       "3"
      ]
     },
     "execution_count": 39,
     "metadata": {},
     "output_type": "execute_result"
    }
   ],
   "source": [
    "# Número de elementos\n",
    "np.unique(strings[:,2]).size"
   ]
  },
  {
   "cell_type": "code",
   "execution_count": 40,
   "metadata": {},
   "outputs": [],
   "source": [
    "# Criamos um array com apenas as avaliações boas\n",
    "status_good = np.array(['', 'excellent', 'good'])"
   ]
  },
  {
   "cell_type": "code",
   "execution_count": 41,
   "metadata": {},
   "outputs": [],
   "source": [
    "# Checamos agora os valores da variável e comparamos com o array anterior convertendo a variável para valores binários\n",
    "# Chamamos isso de binarização\n",
    "strings[:,2] = np.where(np.isin(strings[:,2], status_good),1,0)"
   ]
  },
  {
   "cell_type": "code",
   "execution_count": 42,
   "metadata": {},
   "outputs": [
    {
     "data": {
      "text/plain": [
       "array(['0', '1'], dtype='<U110')"
      ]
     },
     "execution_count": 42,
     "metadata": {},
     "output_type": "execute_result"
    }
   ],
   "source": [
    "# Extrai os valores únicos da variável\n",
    "np.unique(strings[:,2])"
   ]
  },
  {
   "cell_type": "code",
   "execution_count": 43,
   "metadata": {},
   "outputs": [
    {
     "data": {
      "text/plain": [
       "array([['0', '130', '1'],\n",
       "       ['0', '1', '1'],\n",
       "       ['0', '48', '0'],\n",
       "       ['0', '4', '0'],\n",
       "       ['0', '89', '0'],\n",
       "       ['0', '74', '1'],\n",
       "       ['0', '107', '0'],\n",
       "       ['0', '91', '0'],\n",
       "       ['0', '90', '0'],\n",
       "       ['33', '139', '1'],\n",
       "       ['21', '125', '0'],\n",
       "       ['21', '114', '0'],\n",
       "       ['21', '102', '1'],\n",
       "       ['33', '139', '0'],\n",
       "       ['17', '67', '0'],\n",
       "       ['17', '78', '1'],\n",
       "       ['17', '111', '1'],\n",
       "       ['17', '109', '0'],\n",
       "       ['33', '139', '1'],\n",
       "       ['28', '87', '1'],\n",
       "       ['28', '98', '0'],\n",
       "       ['28', '96', '1'],\n",
       "       ['28', '47', '1'],\n",
       "       ['28', '137', '1'],\n",
       "       ['28', '7', '1'],\n",
       "       ['33', '139', '1'],\n",
       "       ['31', '20', '1'],\n",
       "       ['31', '145', '0'],\n",
       "       ['31', '49', '0'],\n",
       "       ['31', '51', '1'],\n",
       "       ['33', '139', '1'],\n",
       "       ['7', '62', '0'],\n",
       "       ['7', '56', '0'],\n",
       "       ['7', '135', '1'],\n",
       "       ['33', '139', '1'],\n",
       "       ['32', '53', '1'],\n",
       "       ['32', '93', '1'],\n",
       "       ['32', '115', '0'],\n",
       "       ['32', '136', '0'],\n",
       "       ['32', '95', '1'],\n",
       "       ['32', '50', '0'],\n",
       "       ['32', '52', '1'],\n",
       "       ['33', '139', '1'],\n",
       "       ['4', '26', '1'],\n",
       "       ['4', '134', '1'],\n",
       "       ['4', '71', '1'],\n",
       "       ['4', '66', '1'],\n",
       "       ['4', '117', '1'],\n",
       "       ['4', '28', '1'],\n",
       "       ['4', '68', '1'],\n",
       "       ['4', '30', '0'],\n",
       "       ['4', '18', '0'],\n",
       "       ['4', '34', '1'],\n",
       "       ['4', '22', '0'],\n",
       "       ['33', '139', '1'],\n",
       "       ['15', '11', '0'],\n",
       "       ['15', '144', '0'],\n",
       "       ['15', '63', '0'],\n",
       "       ['33', '139', '1'],\n",
       "       ['9', '43', '0'],\n",
       "       ['9', '75', '0'],\n",
       "       ['9', '61', '1'],\n",
       "       ['9', '57', '1'],\n",
       "       ['9', '73', '1'],\n",
       "       ['9', '132', '0'],\n",
       "       ['33', '139', '1'],\n",
       "       ['13', '60', '0'],\n",
       "       ['13', '21', '0'],\n",
       "       ['33', '139', '1'],\n",
       "       ['3', '40', '1'],\n",
       "       ['3', '80', '1'],\n",
       "       ['3', '100', '1'],\n",
       "       ['3', '54', '1'],\n",
       "       ['33', '139', '1'],\n",
       "       ['25', '39', '0'],\n",
       "       ['25', '70', '1'],\n",
       "       ['33', '139', '1'],\n",
       "       ['19', '24', '1'],\n",
       "       ['19', '92', '0'],\n",
       "       ['33', '139', '1'],\n",
       "       ['27', '14', '1'],\n",
       "       ['27', '25', '0'],\n",
       "       ['27', '17', '1'],\n",
       "       ['33', '139', '1'],\n",
       "       ['34', '35', '0'],\n",
       "       ['34', '128', '1'],\n",
       "       ['34', '110', '1'],\n",
       "       ['34', '118', '0'],\n",
       "       ['33', '139', '1'],\n",
       "       ['5', '127', '1'],\n",
       "       ['5', '9', '1'],\n",
       "       ['5', '106', '1'],\n",
       "       ['5', '133', '0'],\n",
       "       ['5', '120', '0'],\n",
       "       ['33', '139', '0'],\n",
       "       ['2', '3', '0'],\n",
       "       ['2', '45', '0'],\n",
       "       ['2', '138', '1'],\n",
       "       ['2', '41', '0'],\n",
       "       ['2', '101', '1'],\n",
       "       ['2', '15', '1'],\n",
       "       ['33', '139', '1'],\n",
       "       ['22', '44', '1'],\n",
       "       ['22', '27', '0'],\n",
       "       ['22', '122', '0'],\n",
       "       ['22', '0', '1'],\n",
       "       ['22', '31', '0'],\n",
       "       ['22', '33', '0'],\n",
       "       ['22', '32', '1'],\n",
       "       ['22', '105', '1'],\n",
       "       ['22', '82', '0'],\n",
       "       ['22', '97', '1'],\n",
       "       ['22', '76', '0'],\n",
       "       ['22', '83', '1'],\n",
       "       ['22', '86', '0'],\n",
       "       ['33', '139', '0'],\n",
       "       ['23', '55', '1'],\n",
       "       ['23', '6', '0'],\n",
       "       ['33', '139', '1'],\n",
       "       ['6', '129', '1'],\n",
       "       ['6', '123', '0'],\n",
       "       ['33', '139', '1'],\n",
       "       ['8', '81', '1'],\n",
       "       ['8', '126', '0'],\n",
       "       ['8', '140', '1'],\n",
       "       ['8', '112', '1'],\n",
       "       ['8', '72', '1'],\n",
       "       ['8', '104', '0'],\n",
       "       ['8', '69', '0'],\n",
       "       ['8', '77', '0'],\n",
       "       ['8', '121', '0'],\n",
       "       ['8', '84', '1'],\n",
       "       ['8', '103', '1'],\n",
       "       ['33', '139', '1'],\n",
       "       ['12', '2', '1'],\n",
       "       ['12', '79', '0'],\n",
       "       ['12', '108', '0'],\n",
       "       ['12', '23', '0'],\n",
       "       ['12', '65', '1'],\n",
       "       ['33', '139', '1'],\n",
       "       ['10', '142', '1'],\n",
       "       ['33', '139', '0'],\n",
       "       ['14', '37', '0'],\n",
       "       ['14', '58', '1'],\n",
       "       ['14', '143', '1'],\n",
       "       ['33', '139', '1'],\n",
       "       ['16', '10', '1'],\n",
       "       ['16', '19', '0'],\n",
       "       ['16', '42', '0'],\n",
       "       ['33', '139', '1'],\n",
       "       ['18', '38', '1'],\n",
       "       ['18', '85', '0'],\n",
       "       ['18', '88', '1'],\n",
       "       ['33', '139', '1'],\n",
       "       ['20', '8', '0'],\n",
       "       ['33', '139', '1'],\n",
       "       ['24', '113', '1'],\n",
       "       ['24', '13', '0'],\n",
       "       ['24', '46', '0'],\n",
       "       ['24', '12', '1'],\n",
       "       ['24', '124', '0'],\n",
       "       ['33', '139', '0'],\n",
       "       ['26', '131', '1'],\n",
       "       ['33', '139', '0'],\n",
       "       ['29', '119', '1'],\n",
       "       ['29', '116', '1'],\n",
       "       ['33', '139', '1'],\n",
       "       ['30', '99', '1'],\n",
       "       ['30', '16', '1'],\n",
       "       ['30', '64', '1'],\n",
       "       ['33', '139', '0'],\n",
       "       ['1', '5', '0'],\n",
       "       ['1', '141', '1'],\n",
       "       ['1', '94', '1'],\n",
       "       ['1', '36', '1'],\n",
       "       ['1', '29', '1'],\n",
       "       ['33', '139', '0'],\n",
       "       ['11', '59', '0']], dtype='<U110')"
      ]
     },
     "execution_count": 43,
     "metadata": {},
     "output_type": "execute_result"
    }
   ],
   "source": [
    "strings"
   ]
  },
  {
   "cell_type": "markdown",
   "metadata": {},
   "source": [
    "## Construindo o Dataset Final"
   ]
  },
  {
   "cell_type": "code",
   "execution_count": 44,
   "metadata": {},
   "outputs": [
    {
     "data": {
      "text/plain": [
       "(178, 6)"
      ]
     },
     "execution_count": 44,
     "metadata": {},
     "output_type": "execute_result"
    }
   ],
   "source": [
    "numeric.shape"
   ]
  },
  {
   "cell_type": "code",
   "execution_count": 45,
   "metadata": {},
   "outputs": [
    {
     "data": {
      "text/plain": [
       "(178, 3)"
      ]
     },
     "execution_count": 45,
     "metadata": {},
     "output_type": "execute_result"
    }
   ],
   "source": [
    "strings.shape"
   ]
  },
  {
   "cell_type": "code",
   "execution_count": 46,
   "metadata": {},
   "outputs": [
    {
     "data": {
      "text/plain": [
       "array([['4429710.0', '645415.0', '1259892.0', ..., '0', '130', '1'],\n",
       "       ['1627154.0', '386522.0', '371242.0', ..., '0', '1', '1'],\n",
       "       ['454376.0', '184751.0', '107835.0', ..., '0', '48', '0'],\n",
       "       ...,\n",
       "       ['22353.0', '85.0', '10219.0', ..., '1', '29', '1'],\n",
       "       ['262949.0', '1008.0', '116120.0', ..., '33', '139', '0'],\n",
       "       ['43607075.0', '2756561.0', '13153076.0', ..., '11', '59', '0']], dtype='<U110')"
      ]
     },
     "execution_count": 46,
     "metadata": {},
     "output_type": "execute_result"
    }
   ],
   "source": [
    "# Concatena os arrays de dados\n",
    "dados_final = np.hstack((numeric, strings))\n",
    "dados_final"
   ]
  },
  {
   "cell_type": "code",
   "execution_count": 47,
   "metadata": {},
   "outputs": [],
   "source": [
    "columns_index_order = [6,7,0,1,2,3,4,5,8]"
   ]
  },
  {
   "cell_type": "code",
   "execution_count": 48,
   "metadata": {},
   "outputs": [
    {
     "data": {
      "text/plain": [
       "array([['0', '130', '4429710.0', ..., '-71.56', '-98.6', '1'],\n",
       "       ['0', '1', '1627154.0', ..., '-77.18', '-99.27', '1'],\n",
       "       ['0', '48', '454376.0', ..., '-76.27', '-99.69', '0'],\n",
       "       ...,\n",
       "       ['1', '29', '22353.0', ..., '-54.28', '-88.24', '1'],\n",
       "       ['33', '139', '262949.0', ..., '-55.84', '-86.41', '0'],\n",
       "       ['11', '59', '43607075.0', ..., '-69.84', '-84.91', '0']], dtype='<U110')"
      ]
     },
     "execution_count": 48,
     "metadata": {},
     "output_type": "execute_result"
    }
   ],
   "source": [
    "dados_final = dados_final[:,columns_index_order]\n",
    "dados_final"
   ]
  },
  {
   "cell_type": "code",
   "execution_count": 49,
   "metadata": {},
   "outputs": [
    {
     "data": {
      "text/plain": [
       "array(['Cidade', 'Monumento', 'Avaliacao', 'Domestico-2019-20', 'Estrangeiro-2019-20', 'Domestico-2020-21', 'Estrangeiro-2020-21', 'Crescimento-Domestico-21/19', 'Crescimento-Estrangeiro-21/19'],\n",
       "      dtype='<U33')"
      ]
     },
     "execution_count": 49,
     "metadata": {},
     "output_type": "execute_result"
    }
   ],
   "source": [
    "# Concatena os arrays de cabecalho\n",
    "cabecalho_final = np.hstack((header_strings, header_numeric))\n",
    "cabecalho_final"
   ]
  },
  {
   "cell_type": "code",
   "execution_count": 50,
   "metadata": {},
   "outputs": [],
   "source": [
    "columns_index_order_cabecalho = [0,1,3,4,5,6,7,8,2]"
   ]
  },
  {
   "cell_type": "code",
   "execution_count": 51,
   "metadata": {},
   "outputs": [
    {
     "data": {
      "text/plain": [
       "array(['Cidade', 'Monumento', 'Domestico-2019-20', 'Estrangeiro-2019-20', 'Domestico-2020-21', 'Estrangeiro-2020-21', 'Crescimento-Domestico-21/19', 'Crescimento-Estrangeiro-21/19', 'Avaliacao'],\n",
       "      dtype='<U33')"
      ]
     },
     "execution_count": 51,
     "metadata": {},
     "output_type": "execute_result"
    }
   ],
   "source": [
    "cabecalho_final = cabecalho_final[columns_index_order_cabecalho]\n",
    "cabecalho_final"
   ]
  },
  {
   "cell_type": "code",
   "execution_count": 53,
   "metadata": {},
   "outputs": [
    {
     "data": {
      "text/plain": [
       "array([['Cidade', 'Monumento', 'Domestico-2019-20', ..., 'Crescimento-Domestico-21/19', 'Crescimento-Estrangeiro-21/19', 'Avaliacao'],\n",
       "       ['0', '130', '4429710.0', ..., '-71.56', '-98.6', '1'],\n",
       "       ['0', '1', '1627154.0', ..., '-77.18', '-99.27', '1'],\n",
       "       ...,\n",
       "       ['1', '29', '22353.0', ..., '-54.28', '-88.24', '1'],\n",
       "       ['33', '139', '262949.0', ..., '-55.84', '-86.41', '0'],\n",
       "       ['11', '59', '43607075.0', ..., '-69.84', '-84.91', '0']], dtype='<U110')"
      ]
     },
     "execution_count": 53,
     "metadata": {},
     "output_type": "execute_result"
    }
   ],
   "source": [
    "# Concatena o array de nomes de colunas com o array de dados\n",
    "df_final = np.vstack((cabecalho_final, dados_final))\n",
    "df_final"
   ]
  },
  {
   "cell_type": "markdown",
   "metadata": {},
   "source": [
    "## Salvando em disco o dataframe final"
   ]
  },
  {
   "cell_type": "code",
   "execution_count": 54,
   "metadata": {},
   "outputs": [],
   "source": [
    "# Salva em disco\n",
    "np.savetxt(\"dataset_limpo_preprocessado_indiano.csv\", \n",
    "           df_final, \n",
    "           fmt = '%s',\n",
    "           delimiter = ',')"
   ]
  },
  {
   "cell_type": "markdown",
   "metadata": {},
   "source": [
    "## Concluindo"
   ]
  },
  {
   "cell_type": "markdown",
   "metadata": {},
   "source": [
    "Este projeto teve o objetivo de fazer a Limpeza e Pré-Processamento de Dados utilizando apenas o NumPy, para que seja utilizado em um modelo de machine learning.\n",
    "Voce viu o Tratamento valores ausentes, convertemos string em numeros, aplicação de label encoding e binarização.\n",
    "Espero que tenha gostado.\n",
    "\n",
    "Everton Crespi"
   ]
  }
 ],
 "metadata": {
  "kernelspec": {
   "display_name": "base",
   "language": "python",
   "name": "python3"
  },
  "language_info": {
   "codemirror_mode": {
    "name": "ipython",
    "version": 3
   },
   "file_extension": ".py",
   "mimetype": "text/x-python",
   "name": "python",
   "nbconvert_exporter": "python",
   "pygments_lexer": "ipython3",
   "version": "3.7.4"
  },
  "vscode": {
   "interpreter": {
    "hash": "ad2bdc8ecc057115af97d19610ffacc2b4e99fae6737bb82f5d7fb13d2f2c186"
   }
  }
 },
 "nbformat": 4,
 "nbformat_minor": 2
}

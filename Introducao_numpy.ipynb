{
  "cells": [
    {
      "cell_type": "markdown",
      "metadata": {
        "id": "view-in-github",
        "colab_type": "text"
      },
      "source": [
        "<a href=\"https://colab.research.google.com/github/Evertondecrespi/Numpy/blob/main/Introducao_numpy.ipynb\" target=\"_parent\"><img src=\"https://colab.research.google.com/assets/colab-badge.svg\" alt=\"Open In Colab\"/></a>"
      ]
    },
    {
      "cell_type": "markdown",
      "metadata": {
        "id": "ukUmFoLonR7h"
      },
      "source": [
        "# <font color='black'>Estudo diario 01</font>"
      ]
    },
    {
      "cell_type": "markdown",
      "metadata": {
        "id": "vB7sd_3pnR7i"
      },
      "source": [
        "# <font color='blue'>Python - Numpy </font>"
      ]
    },
    {
      "cell_type": "markdown",
      "metadata": {
        "id": "K6o8JEsnnR7j"
      },
      "source": [
        "### <font color='red'>Funções basicas do Numpy</font>"
      ]
    },
    {
      "cell_type": "code",
      "execution_count": null,
      "metadata": {
        "id": "PUVyGtJ6nR7j"
      },
      "outputs": [],
      "source": [
        "# No python podemos fazer comentarios usando hashtag \n",
        "# Para criar cabeçalhos personalisados, podemos utilizar HTML e mudar para o tipo da celula para markdown"
      ]
    },
    {
      "cell_type": "code",
      "execution_count": null,
      "metadata": {
        "id": "8yltVJSYnR7k"
      },
      "outputs": [],
      "source": [
        "# Como saber qual a versão do python\n",
        "# Versão da Linguagem Python\n",
        "from platform import python_version\n",
        "print('Versão da Linguagem Python Usada Neste Jupyter Notebook:', python_version())"
      ]
    },
    {
      "cell_type": "code",
      "execution_count": null,
      "metadata": {
        "id": "j4n4xMYmnR7k"
      },
      "outputs": [],
      "source": [
        "# Para atualizar um pacote, execute o comando abaixo no terminal ou prompt de comando:\n",
        "# pip install -U nome_pacote\n",
        "# -U atualiza o pacote\n",
        "# -q instala de modo silencioso\n",
        "\n",
        "# Para instalar a versão exata de um pacote, execute o comando abaixo no terminal ou prompt de comando:\n",
        "# !pip install nome_pacote==versão_desejada\n",
        "\n",
        "# Depois de instalar ou atualizar o pacote, reinicie o jupyter notebook.\n",
        "\n",
        "# Instala o pacote watermark. \n",
        "# Esse pacote é usado para gravar as versões de outros pacotes usados neste jupyter notebook.\n",
        "# !pip install -q -U watermark\n",
        "\n",
        "# Para atualizar o pip voce pode usar o comando\n",
        "# python -m pip install --upgrade pip"
      ]
    },
    {
      "cell_type": "code",
      "execution_count": null,
      "metadata": {
        "id": "GWnEJuXmnR7k"
      },
      "outputs": [],
      "source": [
        "# Vammos criar um array\n",
        "import numpy as np\n",
        "a = np.array([0, 1, 2, 3])\n",
        "print(a)\n",
        "# Para imprimir voce pode usar o print(a) ou simplismenta a"
      ]
    },
    {
      "cell_type": "code",
      "execution_count": null,
      "metadata": {
        "id": "Z2onlLhanR7l"
      },
      "outputs": [],
      "source": [
        "# utilizando ajuda\n",
        "help(np.array)"
      ]
    },
    {
      "cell_type": "code",
      "execution_count": null,
      "metadata": {
        "id": "yXb55lZsnR7l"
      },
      "outputs": [],
      "source": [
        "# Criando array unidimensional \n",
        "a = np.array([0, 1, 2, 3])\n",
        "a"
      ]
    },
    {
      "cell_type": "code",
      "execution_count": null,
      "metadata": {
        "id": "6-UYAST4nR7l"
      },
      "outputs": [],
      "source": [
        "# Mostra o numero de dimensoes\n",
        "a.ndim\n"
      ]
    },
    {
      "cell_type": "code",
      "execution_count": null,
      "metadata": {
        "id": "z04fuyqZnR7l"
      },
      "outputs": [],
      "source": [
        "# Mostra o numero de elementos\n",
        "a.shape\n"
      ]
    },
    {
      "cell_type": "code",
      "execution_count": null,
      "metadata": {
        "id": "w4oitWl8nR7l"
      },
      "outputs": [],
      "source": [
        "# Mostra o numero de elementos\n",
        "len(a)"
      ]
    },
    {
      "cell_type": "code",
      "execution_count": null,
      "metadata": {
        "id": "HpyCBGs5nR7m"
      },
      "outputs": [],
      "source": [
        "# Criando array Bidimensionais\n",
        "b = np.array([[0, 1, 2], [3, 4, 5]])    # 2 x 3 array\n",
        "b"
      ]
    },
    {
      "cell_type": "code",
      "execution_count": null,
      "metadata": {
        "id": "sujQZ_7wnR7m"
      },
      "outputs": [],
      "source": [
        "# Criando array Tridimensionais\n",
        "c = np.array([[[1], [2]], [[3], [4]]])\n",
        "c.shape"
      ]
    },
    {
      "cell_type": "code",
      "execution_count": null,
      "metadata": {
        "id": "w2_WrGwcnR7m"
      },
      "outputs": [],
      "source": [
        "# Cria um array de seis posições entre zero e um\n",
        "c = np.linspace(0, 1, 6)   # início, fim, número de pontos\n",
        "c\n"
      ]
    },
    {
      "cell_type": "code",
      "execution_count": null,
      "metadata": {
        "id": "oLT0NsZUnR7m"
      },
      "outputs": [],
      "source": [
        "# Cria um array de seis posições entre zero e um, sem usar o um\n",
        "d = np.linspace(0, 1, 5, endpoint=False)\n",
        "d"
      ]
    },
    {
      "cell_type": "code",
      "execution_count": null,
      "metadata": {
        "id": "uNFKPYPSnR7m"
      },
      "outputs": [],
      "source": [
        "# Cria uma matriz preenchida com um\n",
        "a = np.ones((3, 3))  # lembrete: (3, 3) é uma tupla\n",
        "a"
      ]
    },
    {
      "cell_type": "code",
      "execution_count": null,
      "metadata": {
        "id": "vI60QvqAnR7n"
      },
      "outputs": [],
      "source": [
        "# Cria uma matriz preenchida com zero\n",
        "b = np.zeros((2, 2))\n",
        "b"
      ]
    },
    {
      "cell_type": "code",
      "execution_count": null,
      "metadata": {
        "id": "h0xPtLz8nR7n"
      },
      "outputs": [],
      "source": [
        "# Cria uma matriz identidade\n",
        "c = np.eye(3)\n",
        "c"
      ]
    },
    {
      "cell_type": "code",
      "execution_count": null,
      "metadata": {
        "id": "TqOuaN2cnR7n"
      },
      "outputs": [],
      "source": [
        "# Cria uma matriz identidade preenchida de 1 a 4\n",
        "d = np.diag(np.array([1, 2, 3, 4]))\n",
        "d"
      ]
    },
    {
      "cell_type": "code",
      "execution_count": null,
      "metadata": {
        "id": "egbACpI0nR7n"
      },
      "outputs": [],
      "source": [
        "# Seta uma semente para criar um valor aleatorio que pode ser reprodusido novamente em outro lugar\n",
        "np.random.seed(1234)        # Definindo um início"
      ]
    },
    {
      "cell_type": "code",
      "execution_count": null,
      "metadata": {
        "id": "E402PvG1nR7n"
      },
      "outputs": [],
      "source": [
        "# Cria um array aleatorio entre zero e um\n",
        "# Retornar uma amostra (ou amostras) da distribuição “normal padrão”. Ao contrário do rand, que é uniforme:\n",
        "a = np.random.rand(4)       # uniforme em [0, 1]\n",
        "a\n"
      ]
    },
    {
      "cell_type": "code",
      "execution_count": null,
      "metadata": {
        "id": "wrMSZRFxnR7n"
      },
      "outputs": [],
      "source": [
        "# Cria um array aleatorio entre zero e um\n",
        "b = np.random.randn(4)      # Gaussiana\n",
        "b"
      ]
    },
    {
      "cell_type": "code",
      "execution_count": null,
      "metadata": {
        "id": "i-_IVOVVnR7o"
      },
      "outputs": [],
      "source": [
        "# Definindo outro tipo dos dados\n",
        "c = np.array([1, 2, 3], dtype=float)\n",
        "c"
      ]
    },
    {
      "cell_type": "code",
      "execution_count": null,
      "metadata": {
        "id": "m_GUzdfOnR7o"
      },
      "outputs": [],
      "source": [
        "# Outros exemplos\n",
        "a = np.ones((3, 3))\n",
        "d = np.array([1+2j, 3+4j, 5+6*1j])\n",
        "e = np.array([True, False, False, True])\n",
        "f = np.array(['Bonjour', 'Hello', 'Olá',])"
      ]
    },
    {
      "cell_type": "code",
      "execution_count": null,
      "metadata": {
        "id": "l2pcg4y1nR7o"
      },
      "outputs": [],
      "source": [
        "# Criando array com 10 valores multiplos de 3\n",
        "array01 = np.arange(10) * 3\n",
        "array01"
      ]
    },
    {
      "cell_type": "code",
      "execution_count": null,
      "metadata": {
        "id": "mA7o6FWbnR7o"
      },
      "outputs": [],
      "source": [
        "# Imprime valores de 0 a 24\n",
        "arr = np.arange(0, 25)\n",
        "print('Array com dimensão (1, 25) = ', arr)"
      ]
    },
    {
      "cell_type": "code",
      "execution_count": null,
      "metadata": {
        "id": "SYIPXPcpnR7o"
      },
      "outputs": [],
      "source": [
        "#Alterando as dimensões de (1, 25) para (25, 1).\n",
        "mod_array = arr.reshape(25, 1)\n",
        "print('Array com dimensão (25, 1) = ', mod_array)"
      ]
    },
    {
      "cell_type": "code",
      "execution_count": null,
      "metadata": {
        "id": "XeWVOp9RnR7o"
      },
      "outputs": [],
      "source": [
        "# Cria um array aleatorio de 50 valoes inteiros entre 1 e 100\n",
        "array02 = np.random.randint(1,100,50)\n",
        "array02\n"
      ]
    },
    {
      "cell_type": "code",
      "execution_count": null,
      "metadata": {
        "id": "e3wS-e7wnR7p"
      },
      "outputs": [],
      "source": [
        "# Selecionando apenas alguns dados\n",
        "# Vamos Imprime o quinto valor até o decimo, de dois em dois\n",
        "array02[5:10:2]\n"
      ]
    },
    {
      "cell_type": "code",
      "execution_count": null,
      "metadata": {
        "id": "eDEoji_1nR7p"
      },
      "outputs": [],
      "source": [
        "# Retorna todos os valores até o elemento de index 4 (exclusive)\n",
        "array02[:8]"
      ]
    },
    {
      "cell_type": "code",
      "execution_count": null,
      "metadata": {
        "id": "aLmwu1xInR7p"
      },
      "outputs": [],
      "source": [
        "# A partir do elemento de index 4, retorna todos os valores\n",
        "array02[40:]"
      ]
    },
    {
      "cell_type": "code",
      "execution_count": null,
      "metadata": {
        "id": "zJOO2gyPnR7p"
      },
      "outputs": [],
      "source": [
        "# Mostra somente os multiplos de 3 do array\n",
        "array02[::3]"
      ]
    },
    {
      "cell_type": "code",
      "execution_count": null,
      "metadata": {
        "id": "GPYaS11jnR7p"
      },
      "outputs": [],
      "source": [
        "# Subistitu os 5 primeiros valores por 0\n",
        "array02[:5] = 0\n",
        "array02"
      ]
    },
    {
      "cell_type": "code",
      "execution_count": null,
      "metadata": {
        "id": "DJiN3K42nR7p"
      },
      "outputs": [],
      "source": [
        "# Criando uma matrix 4x4 aleatoria com numeros de 0 a 100\n",
        "np.random.seed(100)\n",
        "array03 = np.random.randint(0, 100, size = (4,4))\n",
        "array03"
      ]
    },
    {
      "cell_type": "code",
      "execution_count": null,
      "metadata": {
        "id": "ngZXIuY4nR7p"
      },
      "outputs": [],
      "source": [
        "# Utilizando consições com arrays, peloi menos um valor dividido por sete sobra zero\n",
        "np.any((array03 % 7) == 0)"
      ]
    },
    {
      "cell_type": "code",
      "execution_count": null,
      "metadata": {
        "id": "DYeKWOjgnR7q"
      },
      "outputs": [],
      "source": [
        "# Verrifica se todos os valores são menores que 100\n",
        "np.all(array03 < 100)"
      ]
    },
    {
      "cell_type": "code",
      "execution_count": null,
      "metadata": {
        "id": "YwGLeeCMnR7q"
      },
      "outputs": [],
      "source": [
        "# Retorne a linha onde o elemento de índice 1 na coluna seja maior que 2 e menor que 50\n",
        "np.where(np.logical_and(array03[:,1] > 2, array03[:,1] < 50))"
      ]
    },
    {
      "cell_type": "code",
      "execution_count": null,
      "metadata": {
        "id": "WyRTrQQdnR7q"
      },
      "outputs": [],
      "source": [
        "# Retorne a linha onde o elemento de índice 3 na coluna seja maior que 50 e menor que 100\n",
        "np.intersect1d(np.where(array03[:,3] > 50), np.where(array03[:,3] < 100))"
      ]
    }
  ],
  "metadata": {
    "kernelspec": {
      "display_name": "Python 3",
      "language": "python",
      "name": "python3"
    },
    "language_info": {
      "codemirror_mode": {
        "name": "ipython",
        "version": 3
      },
      "file_extension": ".py",
      "mimetype": "text/x-python",
      "name": "python",
      "nbconvert_exporter": "python",
      "pygments_lexer": "ipython3",
      "version": "3.10.4"
    },
    "orig_nbformat": 4,
    "vscode": {
      "interpreter": {
        "hash": "3ad933181bd8a04b432d3370b9dc3b0662ad032c4dfaa4e4f1596c548f763858"
      }
    },
    "colab": {
      "provenance": [],
      "include_colab_link": true
    }
  },
  "nbformat": 4,
  "nbformat_minor": 0
}